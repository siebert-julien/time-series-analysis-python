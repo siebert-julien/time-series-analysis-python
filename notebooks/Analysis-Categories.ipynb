{
 "cells": [
  {
   "cell_type": "code",
   "execution_count": 62,
   "metadata": {},
   "outputs": [],
   "source": [
    "import pandas as pd\n",
    "import matplotlib.pyplot as plt"
   ]
  },
  {
   "cell_type": "code",
   "execution_count": 63,
   "metadata": {},
   "outputs": [],
   "source": [
    "df = pd.read_csv(\n",
    "    r'review_final.csv',\n",
    "    sep=';',\n",
    "    encoding='latin1'\n",
    ").dropna(how='all', axis='columns')"
   ]
  },
  {
   "cell_type": "code",
   "execution_count": 64,
   "metadata": {},
   "outputs": [],
   "source": [
    "reviews = df[df.is_package & df.is_focused_on_analysis]\n",
    "reviews = reviews[reviews.is_focused_on_given_domain == \"FALSE\"]\n",
    "reviews = reviews.astype({c:'category' for c in reviews.columns[9:]})"
   ]
  },
  {
   "cell_type": "code",
   "execution_count": 65,
   "metadata": {},
   "outputs": [
    {
     "data": {
      "text/plain": [
       "(40, 27)"
      ]
     },
     "execution_count": 65,
     "metadata": {},
     "output_type": "execute_result"
    }
   ],
   "source": [
    "reviews.shape"
   ]
  },
  {
   "cell_type": "code",
   "execution_count": 66,
   "metadata": {},
   "outputs": [],
   "source": [
    "nb_packages_per_category = (reviews[reviews.columns[9:]] == True).sum()\n"
   ]
  },
  {
   "cell_type": "code",
   "execution_count": 71,
   "metadata": {},
   "outputs": [
    {
     "data": {
      "text/plain": [
       "forecasting                                                                           20\n",
       "classification                                                                         6\n",
       "regression                                                                            18\n",
       "segmentation                                                                           2\n",
       "changepoint_detection                                                                  5\n",
       "clustering                                                                             6\n",
       "anomaly_detection                                                                      5\n",
       "pattern_recognition                                                                    4\n",
       "dimensionality_reduction                                                               4\n",
       "model_selection-hyper_parameters_search                                               13\n",
       "features_preprocessing(transformers,filtering,features generation,approximations\n",
       ")    24\n",
       "visualization                                                                         25\n",
       "decomposition                                                                         16\n",
       "metrics_statistical_tests                                                             19\n",
       "data_generation                                                                       16\n",
       "missing_values_imputation                                                             17\n",
       "contains_datasets                                                                     19\n",
       "online_algorithms                                                                      4\n",
       "dtype: int64"
      ]
     },
     "execution_count": 71,
     "metadata": {},
     "output_type": "execute_result"
    }
   ],
   "source": [
    "nb_packages_per_category"
   ]
  },
  {
   "cell_type": "code",
   "execution_count": 68,
   "metadata": {},
   "outputs": [],
   "source": [
    "reviews_domain_specific = df[df.is_package & df.is_focused_on_analysis]\n",
    "reviews_domain_specific = reviews_domain_specific[reviews_domain_specific.is_focused_on_given_domain != \"FALSE\"]"
   ]
  },
  {
   "cell_type": "code",
   "execution_count": 69,
   "metadata": {},
   "outputs": [
    {
     "name": "stdout",
     "output_type": "stream",
     "text": [
      "astronomy & 3 & \\href[https://github.com/gwastro/pycbc][pycbc],\\href[https://github.com/exoplanet-dev/exoplanet][exoplanet],\\href[https://github.com/KeplerGO/lightkurve][lightkurve]\n",
      "audio & 3 & \\href[https://github.com/tyiannak/pyAudioAnalysis][pyAudioAnalysis],\\href[https://github.com/novoic/surfboard][surfboard],\\href[https://github.com/fgnt/nara_wpe][nara_wpe]\n",
      "bio-signal & 2 & \\href[https://github.com/PIA-Group/BioSPPy][BioSPPy],\\href[https://github.com/raphaelvallat/yasa][yasa]\n",
      "epidemics & 1 & \\href[https://github.com/springer-math/Mathematics-of-Epidemics-on-Networks][Mathematics-of-Epidemics-on-Networks]\n",
      "finance & 6 & \\href[https://github.com/ScottfreeLLC/AlphaPy][AlphaPy],\\href[https://github.com/joosthoeks/jhTAlib][jhTAlib],\\href[https://github.com/jankrepl/deepdow][deepdow],\\href[https://github.com/pmorissette/ffn][ffn],\\href[https://github.com/bukosabino/ta][ta],\\href[https://github.com/mrjbq7/ta-lib][ta-lib]\n",
      "geoscience & 4 & \\href[https://github.com/obspy/obspy][obspy],\\href[https://github.com/insarlab/MintPy][MintPy],\\href[https://github.com/GeoscienceAustralia/PyRate][PyRate],\\href[https://github.com/pastas/pastas][pastas]\n",
      "molecular dynamics & 1 & \\href[https://github.com/markovmodel/PyEMMA][PyEMMA]\n",
      "neuroscience & 4 & \\href[https://github.com/neuropsychology/NeuroKit][NeuroKit],\\href[https://github.com/neurodsp-tools/neurodsp][neurodsp],\\href[https://github.com/mne-tools/mne-python][mne-python],\\href[https://github.com/nipy/nitime][nitime]\n"
     ]
    }
   ],
   "source": [
    "for g in reviews_domain_specific.groupby(by='is_focused_on_given_domain'):\n",
    "    print(g[0],'&',g[1].shape[0],'&',','.join([f'\\href[{url}][{name}]' for name,url in zip(g[1].name, g[1].html_url)]))\n",
    "    "
   ]
  },
  {
   "cell_type": "code",
   "execution_count": null,
   "metadata": {},
   "outputs": [],
   "source": []
  }
 ],
 "metadata": {
  "kernelspec": {
   "display_name": "Python 3",
   "language": "python",
   "name": "python3"
  },
  "language_info": {
   "codemirror_mode": {
    "name": "ipython",
    "version": 3
   },
   "file_extension": ".py",
   "mimetype": "text/x-python",
   "name": "python",
   "nbconvert_exporter": "python",
   "pygments_lexer": "ipython3",
   "version": "3.8.6"
  }
 },
 "nbformat": 4,
 "nbformat_minor": 4
}
