{
 "cells": [
  {
   "cell_type": "code",
   "execution_count": 1,
   "metadata": {},
   "outputs": [],
   "source": [
    "import pandas as pd\n",
    "from pathlib import Path\n",
    "import logging\n",
    "import json\n",
    "\n",
    "import matplotlib.pyplot as plt\n",
    "import seaborn as sns\n",
    "\n",
    "import re"
   ]
  },
  {
   "cell_type": "code",
   "execution_count": 2,
   "metadata": {},
   "outputs": [],
   "source": [
    "path_generic = Path(r'C:\\Users\\siebert\\PycharmProjects\\interactive-time-series-analysis\\review\\search\\dependencies_generic_packages_raw_results')\n",
    "path_domain_specific = Path(r'C:\\Users\\siebert\\PycharmProjects\\interactive-time-series-analysis\\review\\search\\dependencies_domain_specific_packages_raw_results')"
   ]
  },
  {
   "cell_type": "code",
   "execution_count": 3,
   "metadata": {},
   "outputs": [],
   "source": [
    "def get_dependencies(path):\n",
    "    dependencies = []\n",
    "    for filename in path.glob('*.json'):\n",
    "        with open(filename, 'r') as f:\n",
    "            try:\n",
    "                deps = json.load(f)\n",
    "                dependencies.extend(deps)\n",
    "            except json.JSONDecodeError:\n",
    "                print(filename)\n",
    "    return pd.DataFrame(dependencies)"
   ]
  },
  {
   "cell_type": "code",
   "execution_count": 4,
   "metadata": {},
   "outputs": [
    {
     "name": "stdout",
     "output_type": "stream",
     "text": [
      "C:\\Users\\siebert\\PycharmProjects\\interactive-time-series-analysis\\review\\search\\dependencies_generic_packages_raw_results\\deps-cesium.json\n",
      "C:\\Users\\siebert\\PycharmProjects\\interactive-time-series-analysis\\review\\search\\dependencies_generic_packages_raw_results\\deps-deeptime.json\n",
      "C:\\Users\\siebert\\PycharmProjects\\interactive-time-series-analysis\\review\\search\\dependencies_domain_specific_packages_raw_results\\deps-mne-python.json\n",
      "C:\\Users\\siebert\\PycharmProjects\\interactive-time-series-analysis\\review\\search\\dependencies_domain_specific_packages_raw_results\\deps-nitime.json\n",
      "C:\\Users\\siebert\\PycharmProjects\\interactive-time-series-analysis\\review\\search\\dependencies_domain_specific_packages_raw_results\\deps-pycbc.json\n",
      "C:\\Users\\siebert\\PycharmProjects\\interactive-time-series-analysis\\review\\search\\dependencies_domain_specific_packages_raw_results\\deps-PyEMMA.json\n",
      "C:\\Users\\siebert\\PycharmProjects\\interactive-time-series-analysis\\review\\search\\dependencies_domain_specific_packages_raw_results\\deps-ta-lib.json\n",
      "C:\\Users\\siebert\\PycharmProjects\\interactive-time-series-analysis\\review\\search\\dependencies_domain_specific_packages_raw_results\\deps-talib.json\n"
     ]
    }
   ],
   "source": [
    "dependencies_generic = get_dependencies(path_generic)\n",
    "dependencies_domain_specific = get_dependencies(path_domain_specific)"
   ]
  },
  {
   "cell_type": "code",
   "execution_count": 5,
   "metadata": {},
   "outputs": [],
   "source": [
    "## manualy add dependencies \n",
    "deps_cesium = [\n",
    "'numpy',\n",
    "'scipy',\n",
    "'scikit-learn',\n",
    "'pandas',\n",
    "'dask',\n",
    "'toolz',\n",
    "'gatspy',\n",
    "'cloudpickle',\n",
    "'joblib',\n",
    "]\n",
    "\n",
    "deps_deeptime = [\n",
    "    'numpy', 'scipy', 'scikit-learn'\n",
    "]\n",
    "\n",
    "deps_nitime = [\n",
    "    'numpy',\n",
    "    'cython',\n",
    "    'scipy',\n",
    "    'matplotlib',\n",
    "    'networkx',\n",
    "    'nibabel',\n",
    "]\n",
    "\n",
    "deps_pycbc = [\n",
    "'numpy',\n",
    "'Mako',\n",
    "'cython',\n",
    "'decorator',\n",
    "'numpy',\n",
    "'scipy',\n",
    "'matplotlib',\n",
    "'pillow',\n",
    "'h5py',\n",
    "'jinja2',\n",
    "'astropy',\n",
    "'mpld3',\n",
    "'lscsoft-glue',\n",
    "'emcee',\n",
    "'requests',\n",
    "'beautifulsoup4',\n",
    "'six',\n",
    "'ligo-segments',\n",
    "'tqdm',\n",
    "'gwdatafind',\n",
    "]\n",
    "\n",
    "deps_pyemma = [\n",
    "'bhmm',\n",
    "'decorator',\n",
    "'h5py',\n",
    "'matplotlib',\n",
    "'mdtraj',\n",
    "'msmtools',\n",
    "'numpy',\n",
    "'pathos',\n",
    "'psutil',\n",
    "'pyyaml',\n",
    "'scipy',\n",
    "'tqdm',\n",
    "]\n",
    "\n",
    "deps_pyaudioanalysis = [\n",
    "'matplotlib',\n",
    "'simplejson',\n",
    "'scipy',\n",
    "'numpy',\n",
    "'hmmlearn',\n",
    "'eyeD3',\n",
    "'pydub',\n",
    "'scikit-learn',\n",
    "'tqdm',\n",
    "'plotly',\n",
    "]\n",
    "\n",
    "deps_mne = [\n",
    "    'numpy',\n",
    "'scipy',\n",
    "'matplotlib',\n",
    "'pyqt5',\n",
    "'pyqt5-sip',\n",
    "'sip',\n",
    "'scikit-learn',\n",
    "'nibabel',\n",
    "'numba',\n",
    "'h5py',\n",
    "'pandas',\n",
    "'numexpr',\n",
    "'jupyter',\n",
    "'python-picard',\n",
    "'statsmodels',\n",
    "'joblib',\n",
    "'psutil',\n",
    "'dipy',\n",
    "'vtk',\n",
    "'mayavi',\n",
    "'PySurfer',\n",
    "'nilearn',\n",
    "'xlrd',\n",
    "'imageio',\n",
    "'imageio-ffmpeg',\n",
    "'pyvista',\n",
    "'pyvistaqt',\n",
    "'tqdm',\n",
    "'mffpy',\n",
    "]\n",
    "\n",
    "deps_talib=[\n",
    "    'numpy'\n",
    "]"
   ]
  },
  {
   "cell_type": "code",
   "execution_count": 6,
   "metadata": {},
   "outputs": [
    {
     "name": "stdout",
     "output_type": "stream",
     "text": [
      "<class 'pandas.core.frame.DataFrame'>\n",
      "RangeIndex: 40 entries, 0 to 39\n",
      "Data columns (total 17 columns):\n",
      " #   Column                  Non-Null Count  Dtype \n",
      "---  ------                  --------------  ----- \n",
      " 0   name                    40 non-null     object\n",
      " 1   summary                 40 non-null     object\n",
      " 2   specifier               40 non-null     object\n",
      " 3   requires                40 non-null     object\n",
      " 4   required_by             40 non-null     object\n",
      " 5   import_names            40 non-null     object\n",
      " 6   homepage                38 non-null     object\n",
      " 7   extras_available        40 non-null     object\n",
      " 8   extras_requested        40 non-null     object\n",
      " 9   project_name            40 non-null     object\n",
      " 10  license                 40 non-null     object\n",
      " 11  versions_available      40 non-null     object\n",
      " 12  version_installed       1 non-null      object\n",
      " 13  version_latest          40 non-null     object\n",
      " 14  version_latest_in_spec  40 non-null     object\n",
      " 15  download_link           40 non-null     object\n",
      " 16  checksum                40 non-null     object\n",
      "dtypes: object(17)\n",
      "memory usage: 5.4+ KB\n"
     ]
    }
   ],
   "source": [
    "dependencies_generic.info()"
   ]
  },
  {
   "cell_type": "code",
   "execution_count": 7,
   "metadata": {},
   "outputs": [
    {
     "name": "stdout",
     "output_type": "stream",
     "text": [
      "<class 'pandas.core.frame.DataFrame'>\n",
      "RangeIndex: 26 entries, 0 to 25\n",
      "Data columns (total 17 columns):\n",
      " #   Column                  Non-Null Count  Dtype \n",
      "---  ------                  --------------  ----- \n",
      " 0   name                    26 non-null     object\n",
      " 1   summary                 26 non-null     object\n",
      " 2   specifier               26 non-null     object\n",
      " 3   requires                26 non-null     object\n",
      " 4   required_by             26 non-null     object\n",
      " 5   import_names            26 non-null     object\n",
      " 6   homepage                26 non-null     object\n",
      " 7   extras_available        26 non-null     object\n",
      " 8   extras_requested        26 non-null     object\n",
      " 9   project_name            26 non-null     object\n",
      " 10  license                 26 non-null     object\n",
      " 11  versions_available      26 non-null     object\n",
      " 12  version_installed       0 non-null      object\n",
      " 13  version_latest          26 non-null     object\n",
      " 14  version_latest_in_spec  26 non-null     object\n",
      " 15  download_link           26 non-null     object\n",
      " 16  checksum                26 non-null     object\n",
      "dtypes: object(17)\n",
      "memory usage: 3.6+ KB\n"
     ]
    }
   ],
   "source": [
    "dependencies_domain_specific.info()"
   ]
  },
  {
   "cell_type": "code",
   "execution_count": 8,
   "metadata": {},
   "outputs": [],
   "source": [
    "dependencies_generic_graph = {\n",
    "    dependencies_generic.loc[i]['name']:[m.group(0) for s in dependencies_generic.requires.loc[i] for m in [re.match('([a-zA-Z0-9-]+)', string=s.lower().replace('sklearn','scikit-learn'))]] for i in range(len(dependencies_generic))\n",
    "}\n",
    "\n",
    "dependencies_generic_graph['cesium'] = deps_cesium\n",
    "dependencies_generic_graph['deeptime'] = deps_deeptime"
   ]
  },
  {
   "cell_type": "code",
   "execution_count": 9,
   "metadata": {},
   "outputs": [],
   "source": [
    "dependencies_domain_specific_graph = {\n",
    "    dependencies_domain_specific.loc[i]['name']:[m.group(0) for s in dependencies_domain_specific.requires.loc[i] for m in [re.match('([a-zA-Z0-9-]+)', string=s.lower().replace('sklearn','scikit-learn'))]] for i in range(len(dependencies_domain_specific))}\n",
    "\n",
    "#Manually add PyEmma and PyCBC\n",
    "\n",
    "dependencies_domain_specific_graph['pycbc']=deps_pycbc\n",
    "dependencies_domain_specific_graph['pyemma']=deps_pyemma\n",
    "dependencies_domain_specific_graph['pyaudioanalysis']=deps_pyaudioanalysis\n",
    "dependencies_domain_specific_graph['talib']=deps_talib\n",
    "dependencies_domain_specific_graph['mne']=deps_mne\n",
    "dependencies_domain_specific_graph['nitime']=deps_nitime"
   ]
  },
  {
   "cell_type": "markdown",
   "metadata": {},
   "source": [
    "## Visualization: Number of dependencies per package"
   ]
  },
  {
   "cell_type": "code",
   "execution_count": 10,
   "metadata": {},
   "outputs": [],
   "source": [
    "dependencies_domain_specific_number = {k: len(v) for k, v in dependencies_domain_specific_graph.items()}\n",
    "dependencies_generic_number = {k: len(v) for k, v in dependencies_generic_graph.items()}"
   ]
  },
  {
   "cell_type": "code",
   "execution_count": 11,
   "metadata": {},
   "outputs": [],
   "source": [
    "\n",
    "def plot_dependencies(dependencies_number, figsize=(8,4)):\n",
    "    fig, ax = plt.subplots(figsize=figsize)\n",
    "    s = pd.Series(dependencies_number).sort_values(ascending=False)\n",
    "\n",
    "    rects = ax.bar(s.index, s.values)\n",
    "\n",
    "    ax.set_xlabel('Package')\n",
    "    ax.set_ylabel('Number of dependencies')\n",
    "    ax.set_title('Number of dependencies per package')\n",
    "\n",
    "    plt.xticks(rotation = 90)\n",
    "\n",
    "    def autolabel(rects):\n",
    "        \"\"\"Attach a text label above each bar in *rects*, displaying its height.\"\"\"\n",
    "        for rect in rects:\n",
    "            height = rect.get_height()\n",
    "            ax.annotate(f'{height}',\n",
    "                        xy=(rect.get_x() + rect.get_width() / 2, height),\n",
    "                        xytext=(0, 3),  # 3 points vertical offset\n",
    "                        textcoords=\"offset points\",\n",
    "                        ha='center', va='bottom')\n",
    "    autolabel(rects)\n",
    "    ax.set_ylim(0,s.max()*1.2)\n",
    "    fig.tight_layout()\n",
    "    return fig, ax\n",
    "\n",
    "#plt.savefig('../images/nb-dependencies-per-package.pdf')"
   ]
  },
  {
   "cell_type": "code",
   "execution_count": 12,
   "metadata": {},
   "outputs": [
    {
     "data": {
      "image/png": "[encoded data removed]",
      "text/plain": [
       "<Figure size 576x288 with 1 Axes>"
      ]
     },
     "metadata": {
      "needs_background": "light"
     },
     "output_type": "display_data"
    }
   ],
   "source": [
    "fig, ax = plot_dependencies(dependencies_generic_number)\n",
    "plt.savefig('../latex/images/nb-dependencies-per-package-generic.pdf')"
   ]
  },
  {
   "cell_type": "code",
   "execution_count": 13,
   "metadata": {},
   "outputs": [
    {
     "data": {
      "image/png": "[encoded data removed]",
      "text/plain": [
       "<Figure size 360x288 with 1 Axes>"
      ]
     },
     "metadata": {
      "needs_background": "light"
     },
     "output_type": "display_data"
    }
   ],
   "source": [
    "fig, ax = plot_dependencies(dependencies_domain_specific_number, figsize=(5,4))\n",
    "plt.savefig('../latex/images/nb-dependencies-per-package-domain-specific.pdf')"
   ]
  },
  {
   "cell_type": "markdown",
   "metadata": {},
   "source": [
    "## Visualization most used dependencies"
   ]
  },
  {
   "cell_type": "code",
   "execution_count": 14,
   "metadata": {},
   "outputs": [],
   "source": [
    "import networkx as nx"
   ]
  },
  {
   "cell_type": "code",
   "execution_count": 15,
   "metadata": {},
   "outputs": [],
   "source": [
    "def make_graph(dependencies_graph):\n",
    "    \"\"\"Create a nextwork x graph from adjacency dict\"\"\"\n",
    "    nodes = set(list(dependencies_graph.keys()) + [n for neighbors in dependencies_graph.values() for n in neighbors])\n",
    "\n",
    "    G = nx.DiGraph()\n",
    "    G.add_nodes_from(nodes)\n",
    "\n",
    "    for k,v in dependencies_graph.items():\n",
    "        for n in v:\n",
    "            G.add_edge(k,n)\n",
    "    return G"
   ]
  },
  {
   "cell_type": "code",
   "execution_count": 16,
   "metadata": {},
   "outputs": [],
   "source": [
    "G_domain_specific = make_graph(dependencies_domain_specific_graph)\n",
    "G_generic = make_graph(dependencies_generic_graph)\n",
    "\n",
    "\n",
    "dependencies_total_graph = dict()\n",
    "dependencies_total_graph.update(dependencies_domain_specific_graph)\n",
    "dependencies_total_graph.update(dependencies_generic_graph)\n",
    "\n",
    "G_total = make_graph(dependencies_total_graph)"
   ]
  },
  {
   "cell_type": "code",
   "execution_count": 22,
   "metadata": {},
   "outputs": [
    {
     "data": {
      "text/plain": [
       "numpy           37\n",
       "scipy           30\n",
       "pandas          23\n",
       "scikit-learn    21\n",
       "matplotlib      16\n",
       "statsmodels      8\n",
       "tqdm             7\n",
       "torch            6\n",
       "numba            6\n",
       "cython           6\n",
       "tensorflow       5\n",
       "seaborn          4\n",
       "future           4\n",
       "joblib           4\n",
       "patsy            3\n",
       "dtype: int64"
      ]
     },
     "execution_count": 22,
     "metadata": {},
     "output_type": "execute_result"
    }
   ],
   "source": [
    "pd.Series(dict(G_generic.in_degree)).nlargest(15)"
   ]
  },
  {
   "cell_type": "code",
   "execution_count": 18,
   "metadata": {},
   "outputs": [
    {
     "data": {
      "text/plain": [
       "numpy           27\n",
       "scipy           21\n",
       "matplotlib      17\n",
       "pandas          13\n",
       "scikit-learn    11\n",
       "tqdm             9\n",
       "h5py             6\n",
       "decorator        5\n",
       "numba            5\n",
       "astropy          4\n",
       "dtype: int64"
      ]
     },
     "execution_count": 18,
     "metadata": {},
     "output_type": "execute_result"
    }
   ],
   "source": [
    "pd.Series(dict(G_domain_specific.in_degree)).nlargest(10)"
   ]
  },
  {
   "cell_type": "code",
   "execution_count": 19,
   "metadata": {},
   "outputs": [
    {
     "data": {
      "text/plain": [
       "numpy           59\n",
       "scipy           46\n",
       "pandas          32\n",
       "matplotlib      31\n",
       "scikit-learn    28\n",
       "tqdm            16\n",
       "numba           11\n",
       "statsmodels      9\n",
       "cython           9\n",
       "seaborn          7\n",
       "torch            7\n",
       "requests         7\n",
       "h5py             7\n",
       "joblib           7\n",
       "tensorflow       6\n",
       "decorator        6\n",
       "future           5\n",
       "setuptools       5\n",
       "six              5\n",
       "dtype: int64"
      ]
     },
     "execution_count": 19,
     "metadata": {},
     "output_type": "execute_result"
    }
   ],
   "source": [
    "s = pd.Series(dict(G_total.in_degree))\n",
    "s[s >= 5].sort_values(ascending=False)"
   ]
  },
  {
   "cell_type": "markdown",
   "metadata": {},
   "source": [
    "## Find out whether a package is used as a dependency too"
   ]
  },
  {
   "cell_type": "code",
   "execution_count": 23,
   "metadata": {},
   "outputs": [],
   "source": [
    "from collections import Counter"
   ]
  },
  {
   "cell_type": "code",
   "execution_count": 24,
   "metadata": {},
   "outputs": [],
   "source": [
    "packages_used_as_dependencies = pd.DataFrame(\n",
    "    data=[(p,k) for p in dependencies_generic_graph.keys() for k,v in dependencies_generic_graph.items() if p in v],\n",
    "    columns=['dependency','used_by']\n",
    ")"
   ]
  },
  {
   "cell_type": "code",
   "execution_count": 25,
   "metadata": {},
   "outputs": [
    {
     "data": {
      "text/html": [
       "<div>\n",
       "<style scoped>\n",
       "    .dataframe tbody tr th:only-of-type {\n",
       "        vertical-align: middle;\n",
       "    }\n",
       "\n",
       "    .dataframe tbody tr th {\n",
       "        vertical-align: top;\n",
       "    }\n",
       "\n",
       "    .dataframe thead th {\n",
       "        text-align: right;\n",
       "    }\n",
       "</style>\n",
       "<table border=\"1\" class=\"dataframe\">\n",
       "  <thead>\n",
       "    <tr style=\"text-align: right;\">\n",
       "      <th></th>\n",
       "      <th>dependency</th>\n",
       "      <th>used_by</th>\n",
       "    </tr>\n",
       "  </thead>\n",
       "  <tbody>\n",
       "    <tr>\n",
       "      <th>0</th>\n",
       "      <td>gluonts</td>\n",
       "      <td>atspy</td>\n",
       "    </tr>\n",
       "    <tr>\n",
       "      <th>1</th>\n",
       "      <td>pmdarima</td>\n",
       "      <td>atspy</td>\n",
       "    </tr>\n",
       "    <tr>\n",
       "      <th>2</th>\n",
       "      <td>sktime</td>\n",
       "      <td>sktime-dl</td>\n",
       "    </tr>\n",
       "    <tr>\n",
       "      <th>3</th>\n",
       "      <td>statsmodels</td>\n",
       "      <td>arch</td>\n",
       "    </tr>\n",
       "    <tr>\n",
       "      <th>4</th>\n",
       "      <td>statsmodels</td>\n",
       "      <td>atspy</td>\n",
       "    </tr>\n",
       "    <tr>\n",
       "      <th>5</th>\n",
       "      <td>statsmodels</td>\n",
       "      <td>deltapy</td>\n",
       "    </tr>\n",
       "    <tr>\n",
       "      <th>6</th>\n",
       "      <td>statsmodels</td>\n",
       "      <td>linearmodels</td>\n",
       "    </tr>\n",
       "    <tr>\n",
       "      <th>7</th>\n",
       "      <td>statsmodels</td>\n",
       "      <td>luminaire</td>\n",
       "    </tr>\n",
       "    <tr>\n",
       "      <th>8</th>\n",
       "      <td>statsmodels</td>\n",
       "      <td>pmdarima</td>\n",
       "    </tr>\n",
       "    <tr>\n",
       "      <th>9</th>\n",
       "      <td>statsmodels</td>\n",
       "      <td>sktime</td>\n",
       "    </tr>\n",
       "    <tr>\n",
       "      <th>10</th>\n",
       "      <td>statsmodels</td>\n",
       "      <td>tsfresh</td>\n",
       "    </tr>\n",
       "    <tr>\n",
       "      <th>11</th>\n",
       "      <td>tsfresh</td>\n",
       "      <td>atspy</td>\n",
       "    </tr>\n",
       "  </tbody>\n",
       "</table>\n",
       "</div>"
      ],
      "text/plain": [
       "     dependency       used_by\n",
       "0       gluonts         atspy\n",
       "1      pmdarima         atspy\n",
       "2        sktime     sktime-dl\n",
       "3   statsmodels          arch\n",
       "4   statsmodels         atspy\n",
       "5   statsmodels       deltapy\n",
       "6   statsmodels  linearmodels\n",
       "7   statsmodels     luminaire\n",
       "8   statsmodels      pmdarima\n",
       "9   statsmodels        sktime\n",
       "10  statsmodels       tsfresh\n",
       "11      tsfresh         atspy"
      ]
     },
     "execution_count": 25,
     "metadata": {},
     "output_type": "execute_result"
    }
   ],
   "source": [
    "packages_used_as_dependencies"
   ]
  },
  {
   "cell_type": "code",
   "execution_count": null,
   "metadata": {},
   "outputs": [],
   "source": []
  }
 ],
 "metadata": {
  "kernelspec": {
   "display_name": "Python 3",
   "language": "python",
   "name": "python3"
  },
  "language_info": {
   "codemirror_mode": {
    "name": "ipython",
    "version": 3
   },
   "file_extension": ".py",
   "mimetype": "text/x-python",
   "name": "python",
   "nbconvert_exporter": "python",
   "pygments_lexer": "ipython3",
   "version": "3.8.6"
  }
 },
 "nbformat": 4,
 "nbformat_minor": 4
}
