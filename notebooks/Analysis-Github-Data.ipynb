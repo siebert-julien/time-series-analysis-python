{
 "cells": [
  {
   "cell_type": "code",
   "execution_count": 11,
   "metadata": {},
   "outputs": [],
   "source": [
    "import pandas as pd\n",
    "from pathlib import Path\n",
    "import logging\n",
    "\n",
    "import matplotlib.pyplot as plt\n",
    "import seaborn as sns"
   ]
  },
  {
   "cell_type": "markdown",
   "metadata": {},
   "source": [
    "## Load and prepare github search results"
   ]
  },
  {
   "cell_type": "code",
   "execution_count": 38,
   "metadata": {},
   "outputs": [],
   "source": [
    "data_directory = Path(r'../data/')\n",
    "extracted_data_directory = data_directory / 'extracted/'\n",
    "\n",
    "data = {filename:pd.read_csv(filename) for filename in extracted_data_directory.glob('github_results_query*.csv')}\n",
    "manually_added = pd.read_csv(extracted_data_directory / 'manually_added.csv')"
   ]
  },
  {
   "cell_type": "markdown",
   "metadata": {},
   "source": [
    "## Displaying the numer of items returned by topics"
   ]
  },
  {
   "cell_type": "code",
   "execution_count": 39,
   "metadata": {},
   "outputs": [],
   "source": [
    "nb_items = pd.Series({str(k.stem)[21:]:v.shape[0] for k,v in data.items()})\n",
    "nb_items.sort_values(ascending=True, inplace=True)"
   ]
  },
  {
   "cell_type": "code",
   "execution_count": 40,
   "metadata": {},
   "outputs": [
    {
     "data": {
      "text/plain": [
       "time-series-decomposition      0\n",
       "time-series-forecast           0\n",
       "time-series-visualization      0\n",
       "time-series-clustering         1\n",
       "time-series-data-mining        1\n",
       "time-series-segmentation       1\n",
       "time-series-prediction         2\n",
       "timeseries-forecasting         2\n",
       "time-series-regression         3\n",
       "timeseries-analysis            5\n",
       "time-series-classification     7\n",
       "time-series-forecasting        7\n",
       "time-series-analysis          17\n",
       "timeseries                    22\n",
       "signal-processing             25\n",
       "time-series                   60\n",
       "dtype: int64"
      ]
     },
     "execution_count": 40,
     "metadata": {},
     "output_type": "execute_result"
    }
   ],
   "source": [
    "nb_items"
   ]
  },
  {
   "cell_type": "code",
   "execution_count": 41,
   "metadata": {},
   "outputs": [
    {
     "data": {
      "image/png": "[encoded data removed]",
      "text/plain": [
       "<Figure size 576x288 with 1 Axes>"
      ]
     },
     "metadata": {
      "needs_background": "light"
     },
     "output_type": "display_data"
    }
   ],
   "source": [
    "\n",
    "fig, ax = plt.subplots(figsize=(8,4))\n",
    "rects1 = ax.barh(nb_items.index, nb_items.values)\n",
    "\n",
    "# Add some text for labels, title and custom x-axis tick labels, etc.\n",
    "ax.set_ylabel('Topics')\n",
    "ax.set_xlabel('Number of repositories')\n",
    "# ax.set_title('Number of repositories per topic')\n",
    "\n",
    "\n",
    "def autolabel(rects):\n",
    "    \"\"\"Attach a text label above each bar in *rects*, displaying its height.\"\"\"\n",
    "    for rect in rects:\n",
    "        width = rect.get_width()\n",
    "        ax.annotate(f'{width}',\n",
    "                    xy=(width, rect.get_y() + rect.get_height() / 2),\n",
    "                    xytext=(10, -5),  # 3 points vertical offset\n",
    "                    textcoords=\"offset points\",\n",
    "                    ha='center', va='bottom')\n",
    "\n",
    "\n",
    "autolabel(rects1)\n",
    "ax.set_xlim(0,nb_items.max() * 1.1)\n",
    "fig.tight_layout()\n",
    "\n",
    "#plt.savefig('../latex/images/nb-items-per-topics.pdf')"
   ]
  },
  {
   "cell_type": "markdown",
   "metadata": {},
   "source": [
    "## Merging all data"
   ]
  },
  {
   "cell_type": "code",
   "execution_count": 42,
   "metadata": {},
   "outputs": [],
   "source": [
    "dataframe = pd.concat(data.values(), axis=0)"
   ]
  },
  {
   "cell_type": "code",
   "execution_count": 43,
   "metadata": {},
   "outputs": [],
   "source": [
    "dataframe = pd.concat([\n",
    "    dataframe, manually_added\n",
    "], axis=0)"
   ]
  },
  {
   "cell_type": "code",
   "execution_count": 44,
   "metadata": {
    "collapsed": true,
    "jupyter": {
     "outputs_hidden": true
    }
   },
   "outputs": [
    {
     "name": "stdout",
     "output_type": "stream",
     "text": [
      "<class 'pandas.core.frame.DataFrame'>\n",
      "Int64Index: 173 entries, 0 to 19\n",
      "Data columns (total 80 columns):\n",
      " #   Column             Non-Null Count  Dtype  \n",
      "---  ------             --------------  -----  \n",
      " 0   id                 173 non-null    float64\n",
      " 1   node_id            173 non-null    object \n",
      " 2   name               173 non-null    object \n",
      " 3   full_name          173 non-null    object \n",
      " 4   private            173 non-null    object \n",
      " 5   owner              173 non-null    object \n",
      " 6   html_url           173 non-null    object \n",
      " 7   description        173 non-null    object \n",
      " 8   fork               173 non-null    object \n",
      " 9   url                173 non-null    object \n",
      " 10  forks_url          173 non-null    object \n",
      " 11  keys_url           173 non-null    object \n",
      " 12  collaborators_url  173 non-null    object \n",
      " 13  teams_url          173 non-null    object \n",
      " 14  hooks_url          173 non-null    object \n",
      " 15  issue_events_url   173 non-null    object \n",
      " 16  events_url         173 non-null    object \n",
      " 17  assignees_url      173 non-null    object \n",
      " 18  branches_url       173 non-null    object \n",
      " 19  tags_url           173 non-null    object \n",
      " 20  blobs_url          173 non-null    object \n",
      " 21  git_tags_url       173 non-null    object \n",
      " 22  git_refs_url       173 non-null    object \n",
      " 23  trees_url          173 non-null    object \n",
      " 24  statuses_url       173 non-null    object \n",
      " 25  languages_url      173 non-null    object \n",
      " 26  stargazers_url     173 non-null    object \n",
      " 27  contributors_url   173 non-null    object \n",
      " 28  subscribers_url    173 non-null    object \n",
      " 29  subscription_url   173 non-null    object \n",
      " 30  commits_url        173 non-null    object \n",
      " 31  git_commits_url    173 non-null    object \n",
      " 32  comments_url       173 non-null    object \n",
      " 33  issue_comment_url  173 non-null    object \n",
      " 34  contents_url       173 non-null    object \n",
      " 35  compare_url        173 non-null    object \n",
      " 36  merges_url         173 non-null    object \n",
      " 37  archive_url        173 non-null    object \n",
      " 38  downloads_url      173 non-null    object \n",
      " 39  issues_url         173 non-null    object \n",
      " 40  pulls_url          173 non-null    object \n",
      " 41  milestones_url     173 non-null    object \n",
      " 42  notifications_url  173 non-null    object \n",
      " 43  labels_url         173 non-null    object \n",
      " 44  releases_url       173 non-null    object \n",
      " 45  deployments_url    173 non-null    object \n",
      " 46  created_at         173 non-null    object \n",
      " 47  updated_at         173 non-null    object \n",
      " 48  pushed_at          173 non-null    object \n",
      " 49  git_url            173 non-null    object \n",
      " 50  ssh_url            173 non-null    object \n",
      " 51  clone_url          173 non-null    object \n",
      " 52  svn_url            173 non-null    object \n",
      " 53  homepage           106 non-null    object \n",
      " 54  size               173 non-null    float64\n",
      " 55  stargazers_count   173 non-null    float64\n",
      " 56  watchers_count     173 non-null    float64\n",
      " 57  language           173 non-null    object \n",
      " 58  has_issues         173 non-null    object \n",
      " 59  has_projects       173 non-null    object \n",
      " 60  has_downloads      173 non-null    object \n",
      " 61  has_wiki           173 non-null    object \n",
      " 62  has_pages          173 non-null    object \n",
      " 63  forks_count        173 non-null    float64\n",
      " 64  mirror_url         0 non-null      float64\n",
      " 65  archived           173 non-null    object \n",
      " 66  disabled           173 non-null    object \n",
      " 67  open_issues_count  173 non-null    float64\n",
      " 68  license            165 non-null    object \n",
      " 69  forks              173 non-null    float64\n",
      " 70  open_issues        173 non-null    float64\n",
      " 71  watchers           173 non-null    float64\n",
      " 72  default_branch     173 non-null    object \n",
      " 73  permissions        173 non-null    object \n",
      " 74  score              153 non-null    float64\n",
      " 75  Unnamed: 0         0 non-null      object \n",
      " 76  temp_clone_token   0 non-null      float64\n",
      " 77  organization       14 non-null     object \n",
      " 78  network_count      20 non-null     float64\n",
      " 79  subscribers_count  20 non-null     float64\n",
      "dtypes: float64(14), object(66)\n",
      "memory usage: 109.5+ KB\n"
     ]
    }
   ],
   "source": [
    "dataframe.info()"
   ]
  },
  {
   "cell_type": "markdown",
   "metadata": {},
   "source": [
    "## Find and remove duplicates"
   ]
  },
  {
   "cell_type": "code",
   "execution_count": 45,
   "metadata": {},
   "outputs": [],
   "source": [
    "duplicates = dataframe[dataframe.duplicated(keep='first')].sort_values(by='name')"
   ]
  },
  {
   "cell_type": "code",
   "execution_count": 46,
   "metadata": {},
   "outputs": [
    {
     "name": "stdout",
     "output_type": "stream",
     "text": [
      "found 28 duplicated unique repositories\n",
      "\\href[https://github.com/KDD-OpenSource/DeepADoTS][DeepADoTS]. \\href[https://github.com/fjxmlzn/DoppelGANger][DoppelGANger]. \\href[https://github.com/hfawaz/InceptionTime][InceptionTime]. \\href[https://github.com/laszukdawid/PyEMD][PyEMD]. \\href[https://github.com/gaborvecsei/Stocks-Pattern-Analyzer][Stocks-Pattern-Analyzer]. \\href[https://github.com/shubhomoydas/ad_examples][ad_examples]. \\href[https://github.com/firmai/atspy][atspy]. \\href[https://github.com/exoplanet-dev/exoplanet][exoplanet]. \\href[https://github.com/AIStream-Peelout/flow-forecast][flow-forecast]. \\href[https://github.com/awslabs/gluon-ts][gluon-ts]. \\href[https://github.com/heidelbergcement/hcrystalball][hcrystalball]. \\href[https://github.com/lightkurve/lightkurve][lightkurve]. \\href[https://github.com/regel/loudml][loudml]. \\href[https://github.com/matrix-profile-foundation/matrixprofile][matrixprofile]. \\href[https://github.com/ourownstory/neural_prophet][neural_prophet]. \\href[https://github.com/PYFTS/pyFTS][pyFTS]. \\href[https://github.com/wwrechard/pydlm][pydlm]. \\href[https://github.com/datamllab/pyodds][pyodds]. \\href[https://github.com/jdb78/pytorch-forecasting][pytorch-forecasting]. \\href[https://github.com/johannfaouzi/pyts][pyts]. \\href[https://github.com/carlomazzaferro/scikit-hts][scikit-hts]. \\href[https://github.com/alan-turing-institute/sktime][sktime]. \\href[https://github.com/sktime/sktime-dl][sktime-dl]. \\href[https://github.com/earthgecko/skyline][skyline]. \\href[https://github.com/TDAmeritrade/stumpy][stumpy]. \\href[https://github.com/microprediction/timemachines][timemachines]. \\href[https://github.com/tslearn-team/tslearn][tslearn]. \\href[https://github.com/filippogiruzzi/voice_activity_detection][voice_activity_detection]\n"
     ]
    }
   ],
   "source": [
    "print(f'found {len(duplicates.full_name.unique())} duplicated unique repositories')\n",
    "print(\n",
    "    '. '.join([f'\\href[{vals[0]}][{vals[1]}]' for i, vals in duplicates[['html_url', 'name']].drop_duplicates().iterrows()])\n",
    ")"
   ]
  },
  {
   "cell_type": "code",
   "execution_count": 47,
   "metadata": {},
   "outputs": [
    {
     "name": "stdout",
     "output_type": "stream",
     "text": [
      "dropping 44 rows\n"
     ]
    }
   ],
   "source": [
    "length_before_drop = len(dataframe)\n",
    "dataframe = dataframe.drop_duplicates(subset='name')\n",
    "print(f'dropping {length_before_drop - len(dataframe)} rows')"
   ]
  },
  {
   "cell_type": "code",
   "execution_count": 48,
   "metadata": {},
   "outputs": [],
   "source": [
    "# sanity check\n",
    "assert len(dataframe.name.unique()) == len(dataframe), 'still have duplicates!'"
   ]
  },
  {
   "cell_type": "code",
   "execution_count": 49,
   "metadata": {},
   "outputs": [
    {
     "data": {
      "text/plain": [
       "(129, 80)"
      ]
     },
     "execution_count": 49,
     "metadata": {},
     "output_type": "execute_result"
    }
   ],
   "source": [
    "dataframe.shape"
   ]
  },
  {
   "cell_type": "markdown",
   "metadata": {},
   "source": [
    "## Saving preprocessed results"
   ]
  },
  {
   "cell_type": "code",
   "execution_count": 50,
   "metadata": {},
   "outputs": [],
   "source": [
    "dataframe.to_csv(data_directory / 'preprocessed' / 'github_results.csv', index=True)"
   ]
  }
 ],
 "metadata": {
  "kernelspec": {
   "display_name": "Python 3",
   "language": "python",
   "name": "python3"
  },
  "language_info": {
   "codemirror_mode": {
    "name": "ipython",
    "version": 3
   },
   "file_extension": ".py",
   "mimetype": "text/x-python",
   "name": "python",
   "nbconvert_exporter": "python",
   "pygments_lexer": "ipython3",
   "version": "3.8.6"
  }
 },
 "nbformat": 4,
 "nbformat_minor": 4
}
