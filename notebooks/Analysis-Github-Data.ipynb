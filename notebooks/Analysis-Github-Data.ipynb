{
 "cells": [
  {
   "cell_type": "code",
   "execution_count": 1,
   "metadata": {},
   "outputs": [],
   "source": [
    "import pandas as pd\n",
    "from pathlib import Path\n",
    "import logging\n",
    "\n",
    "import matplotlib.pyplot as plt\n",
    "import seaborn as sns"
   ]
  },
  {
   "cell_type": "code",
   "execution_count": 2,
   "metadata": {},
   "outputs": [],
   "source": [
    "def load_and_prepare_data(filename):\n",
    "    # read csv\n",
    "    print(f'Loading csv file {filename}')\n",
    "    df = pd.read_csv(filename, index_col=0)\n",
    "    if df.empty:\n",
    "        return df\n",
    "    # change columns types\n",
    "    df = df.astype({'language': 'category'})\n",
    "    df.pushed_at = pd.to_datetime(df.pushed_at)\n",
    "    df.updated_at = pd.to_datetime(df.updated_at)\n",
    "    df = df.set_index('id')\n",
    "    return df\n",
    "\n",
    "\n",
    "def exclude_unmaintained(df):\n",
    "    mask = pd.to_datetime(df.pushed_at) > '2020-07-01'\n",
    "    print(f'excluding {len(df) - sum(mask)} unmaintained items')\n",
    "    return df[mask]"
   ]
  },
  {
   "cell_type": "markdown",
   "metadata": {},
   "source": [
    "## Load and prepare github search results"
   ]
  },
  {
   "cell_type": "code",
   "execution_count": 3,
   "metadata": {},
   "outputs": [
    {
     "name": "stdout",
     "output_type": "stream",
     "text": [
      "Loading csv file C:\\Users\\siebert\\PycharmProjects\\interactive-time-series-analysis\\review\\search\\github_raw_results\\github_results_query_signal-processing.csv\n",
      "Loading csv file C:\\Users\\siebert\\PycharmProjects\\interactive-time-series-analysis\\review\\search\\github_raw_results\\github_results_query_time-series-analysis.csv\n",
      "Loading csv file C:\\Users\\siebert\\PycharmProjects\\interactive-time-series-analysis\\review\\search\\github_raw_results\\github_results_query_time-series-classification.csv\n",
      "Loading csv file C:\\Users\\siebert\\PycharmProjects\\interactive-time-series-analysis\\review\\search\\github_raw_results\\github_results_query_time-series-clustering.csv\n",
      "Loading csv file C:\\Users\\siebert\\PycharmProjects\\interactive-time-series-analysis\\review\\search\\github_raw_results\\github_results_query_time-series-data-mining.csv\n",
      "Loading csv file C:\\Users\\siebert\\PycharmProjects\\interactive-time-series-analysis\\review\\search\\github_raw_results\\github_results_query_time-series-decomposition.csv\n",
      "Loading csv file C:\\Users\\siebert\\PycharmProjects\\interactive-time-series-analysis\\review\\search\\github_raw_results\\github_results_query_time-series-forecast.csv\n",
      "Loading csv file C:\\Users\\siebert\\PycharmProjects\\interactive-time-series-analysis\\review\\search\\github_raw_results\\github_results_query_time-series-forecasting.csv\n",
      "Loading csv file C:\\Users\\siebert\\PycharmProjects\\interactive-time-series-analysis\\review\\search\\github_raw_results\\github_results_query_time-series-prediction.csv\n",
      "Loading csv file C:\\Users\\siebert\\PycharmProjects\\interactive-time-series-analysis\\review\\search\\github_raw_results\\github_results_query_time-series-regression.csv\n",
      "Loading csv file C:\\Users\\siebert\\PycharmProjects\\interactive-time-series-analysis\\review\\search\\github_raw_results\\github_results_query_time-series-segmentation.csv\n",
      "Loading csv file C:\\Users\\siebert\\PycharmProjects\\interactive-time-series-analysis\\review\\search\\github_raw_results\\github_results_query_time-series-visualization.csv\n",
      "Loading csv file C:\\Users\\siebert\\PycharmProjects\\interactive-time-series-analysis\\review\\search\\github_raw_results\\github_results_query_time-series.csv\n",
      "Loading csv file C:\\Users\\siebert\\PycharmProjects\\interactive-time-series-analysis\\review\\search\\github_raw_results\\github_results_query_timeseries-analysis.csv\n",
      "Loading csv file C:\\Users\\siebert\\PycharmProjects\\interactive-time-series-analysis\\review\\search\\github_raw_results\\github_results_query_timeseries-forecasting.csv\n",
      "Loading csv file C:\\Users\\siebert\\PycharmProjects\\interactive-time-series-analysis\\review\\search\\github_raw_results\\github_results_query_timeseries.csv\n",
      "Loading csv file manually_added.csv\n",
      "Loading csv file manually_added_snowballing.csv\n",
      "Loading csv file manually_added_snowballing_papers.csv\n"
     ]
    }
   ],
   "source": [
    "path = Path(r'C:\\Users\\siebert\\PycharmProjects\\interactive-time-series-analysis\\review\\search\\github_raw_results')\n",
    "data = {filename:load_and_prepare_data(filename) for filename in path.glob('github_results_query*.csv')}\n",
    "manually_added = load_and_prepare_data(Path('manually_added.csv'))\n",
    "manually_added_snowballing = load_and_prepare_data(Path('manually_added_snowballing.csv'))\n",
    "manually_added_snowballing_papers = load_and_prepare_data(Path('manually_added_snowballing_papers.csv'))"
   ]
  },
  {
   "cell_type": "markdown",
   "metadata": {},
   "source": [
    "## Displaying the numer of items returned by topics"
   ]
  },
  {
   "cell_type": "code",
   "execution_count": 4,
   "metadata": {},
   "outputs": [],
   "source": [
    "nb_items = pd.Series({str(k.stem)[21:]:v.shape[0] for k,v in data.items()})\n",
    "\n",
    "# manually add tsfresh\n",
    "#nb_items['manually-added'] = manually_added.shape[0]\n",
    "\n",
    "nb_items.sort_values(ascending=True, inplace=True)"
   ]
  },
  {
   "cell_type": "code",
   "execution_count": 5,
   "metadata": {},
   "outputs": [
    {
     "data": {
      "text/plain": [
       "time-series-decomposition      0\n",
       "time-series-forecast           0\n",
       "time-series-visualization      0\n",
       "timeseries-forecasting         0\n",
       "time-series-clustering         1\n",
       "time-series-data-mining        1\n",
       "time-series-segmentation       1\n",
       "time-series-prediction         2\n",
       "time-series-regression         2\n",
       "timeseries-analysis            3\n",
       "time-series-classification     7\n",
       "time-series-forecasting        7\n",
       "time-series-analysis          12\n",
       "timeseries                    15\n",
       "signal-processing             20\n",
       "time-series                   44\n",
       "dtype: int64"
      ]
     },
     "execution_count": 5,
     "metadata": {},
     "output_type": "execute_result"
    }
   ],
   "source": [
    "nb_items"
   ]
  },
  {
   "cell_type": "code",
   "execution_count": 9,
   "metadata": {},
   "outputs": [
    {
     "data": {
      "image/png": "[encoded data removed]",
      "text/plain": [
       "<Figure size 360x288 with 1 Axes>"
      ]
     },
     "metadata": {
      "needs_background": "light"
     },
     "output_type": "display_data"
    }
   ],
   "source": [
    "\n",
    "fig, ax = plt.subplots(figsize=(5,4))\n",
    "rects1 = ax.barh(nb_items.index, nb_items.values)\n",
    "\n",
    "# Add some text for labels, title and custom x-axis tick labels, etc.\n",
    "ax.set_ylabel('Topics')\n",
    "ax.set_xlabel('Number of repositories')\n",
    "# ax.set_title('Number of repositories per topic')\n",
    "\n",
    "\n",
    "def autolabel(rects):\n",
    "    \"\"\"Attach a text label above each bar in *rects*, displaying its height.\"\"\"\n",
    "    for rect in rects:\n",
    "        width = rect.get_width()\n",
    "        ax.annotate(f'{width}',\n",
    "                    xy=(width, rect.get_y() + rect.get_height() / 2),\n",
    "                    xytext=(10, -5),  # 3 points vertical offset\n",
    "                    textcoords=\"offset points\",\n",
    "                    ha='center', va='bottom')\n",
    "\n",
    "\n",
    "autolabel(rects1)\n",
    "ax.set_xlim(0,48)\n",
    "fig.tight_layout()\n",
    "\n",
    "plt.savefig('../latex/images/nb-items-per-topics.pdf')"
   ]
  },
  {
   "cell_type": "markdown",
   "metadata": {},
   "source": [
    "## Merging all data"
   ]
  },
  {
   "cell_type": "code",
   "execution_count": 41,
   "metadata": {},
   "outputs": [],
   "source": [
    "dataframe = pd.concat(data.values(), axis=0)"
   ]
  },
  {
   "cell_type": "code",
   "execution_count": 42,
   "metadata": {},
   "outputs": [],
   "source": [
    "dataframe = pd.concat([\n",
    "    dataframe, manually_added, manually_added_snowballing, manually_added_snowballing_papers\n",
    "], axis=0)"
   ]
  },
  {
   "cell_type": "code",
   "execution_count": 43,
   "metadata": {},
   "outputs": [
    {
     "name": "stdout",
     "output_type": "stream",
     "text": [
      "<class 'pandas.core.frame.DataFrame'>\n",
      "Int64Index: 135 entries, 23389271 to 6309729\n",
      "Data columns (total 77 columns):\n",
      " #   Column             Non-Null Count  Dtype              \n",
      "---  ------             --------------  -----              \n",
      " 0   node_id            135 non-null    object             \n",
      " 1   name               135 non-null    object             \n",
      " 2   full_name          135 non-null    object             \n",
      " 3   private            135 non-null    bool               \n",
      " 4   owner              135 non-null    object             \n",
      " 5   html_url           135 non-null    object             \n",
      " 6   description        135 non-null    object             \n",
      " 7   fork               135 non-null    bool               \n",
      " 8   url                135 non-null    object             \n",
      " 9   forks_url          135 non-null    object             \n",
      " 10  keys_url           135 non-null    object             \n",
      " 11  collaborators_url  135 non-null    object             \n",
      " 12  teams_url          135 non-null    object             \n",
      " 13  hooks_url          135 non-null    object             \n",
      " 14  issue_events_url   135 non-null    object             \n",
      " 15  events_url         135 non-null    object             \n",
      " 16  assignees_url      135 non-null    object             \n",
      " 17  branches_url       135 non-null    object             \n",
      " 18  tags_url           135 non-null    object             \n",
      " 19  blobs_url          135 non-null    object             \n",
      " 20  git_tags_url       135 non-null    object             \n",
      " 21  git_refs_url       135 non-null    object             \n",
      " 22  trees_url          135 non-null    object             \n",
      " 23  statuses_url       135 non-null    object             \n",
      " 24  languages_url      135 non-null    object             \n",
      " 25  stargazers_url     135 non-null    object             \n",
      " 26  contributors_url   135 non-null    object             \n",
      " 27  subscribers_url    135 non-null    object             \n",
      " 28  subscription_url   135 non-null    object             \n",
      " 29  commits_url        135 non-null    object             \n",
      " 30  git_commits_url    135 non-null    object             \n",
      " 31  comments_url       135 non-null    object             \n",
      " 32  issue_comment_url  135 non-null    object             \n",
      " 33  contents_url       135 non-null    object             \n",
      " 34  compare_url        135 non-null    object             \n",
      " 35  merges_url         135 non-null    object             \n",
      " 36  archive_url        135 non-null    object             \n",
      " 37  downloads_url      135 non-null    object             \n",
      " 38  issues_url         135 non-null    object             \n",
      " 39  pulls_url          135 non-null    object             \n",
      " 40  milestones_url     135 non-null    object             \n",
      " 41  notifications_url  135 non-null    object             \n",
      " 42  labels_url         135 non-null    object             \n",
      " 43  releases_url       135 non-null    object             \n",
      " 44  deployments_url    135 non-null    object             \n",
      " 45  created_at         135 non-null    object             \n",
      " 46  updated_at         135 non-null    datetime64[ns, UTC]\n",
      " 47  pushed_at          135 non-null    datetime64[ns, UTC]\n",
      " 48  git_url            135 non-null    object             \n",
      " 49  ssh_url            135 non-null    object             \n",
      " 50  clone_url          135 non-null    object             \n",
      " 51  svn_url            135 non-null    object             \n",
      " 52  homepage           82 non-null     object             \n",
      " 53  size               135 non-null    int64              \n",
      " 54  stargazers_count   135 non-null    int64              \n",
      " 55  watchers_count     135 non-null    int64              \n",
      " 56  language           135 non-null    object             \n",
      " 57  has_issues         135 non-null    bool               \n",
      " 58  has_projects       135 non-null    bool               \n",
      " 59  has_downloads      135 non-null    bool               \n",
      " 60  has_wiki           135 non-null    bool               \n",
      " 61  has_pages          135 non-null    bool               \n",
      " 62  forks_count        135 non-null    int64              \n",
      " 63  mirror_url         0 non-null      float64            \n",
      " 64  archived           135 non-null    bool               \n",
      " 65  disabled           135 non-null    bool               \n",
      " 66  open_issues_count  135 non-null    int64              \n",
      " 67  license            128 non-null    object             \n",
      " 68  forks              135 non-null    int64              \n",
      " 69  open_issues        135 non-null    int64              \n",
      " 70  watchers           135 non-null    int64              \n",
      " 71  default_branch     135 non-null    object             \n",
      " 72  score              115 non-null    float64            \n",
      " 73  temp_clone_token   0 non-null      float64            \n",
      " 74  organization       14 non-null     object             \n",
      " 75  network_count      20 non-null     float64            \n",
      " 76  subscribers_count  20 non-null     float64            \n",
      "dtypes: bool(9), datetime64[ns, UTC](2), float64(5), int64(8), object(53)\n",
      "memory usage: 74.0+ KB\n"
     ]
    }
   ],
   "source": [
    "dataframe.info()"
   ]
  },
  {
   "cell_type": "markdown",
   "metadata": {},
   "source": [
    "## Find and remove duplicates"
   ]
  },
  {
   "cell_type": "code",
   "execution_count": 44,
   "metadata": {},
   "outputs": [],
   "source": [
    "duplicates = dataframe[dataframe.duplicated(keep='first')].sort_values(by='name')"
   ]
  },
  {
   "cell_type": "code",
   "execution_count": 45,
   "metadata": {},
   "outputs": [
    {
     "name": "stdout",
     "output_type": "stream",
     "text": [
      "found 24 duplicated unique repositories\n",
      "\\href[https://github.com/KDD-OpenSource/DeepADoTS][DeepADoTS]. \\href[https://github.com/hfawaz/InceptionTime][InceptionTime]. \\href[https://github.com/laszukdawid/PyEMD][PyEMD]. \\href[https://github.com/LongxingTan/Time-series-prediction][Time-series-prediction]. \\href[https://github.com/shubhomoydas/ad_examples][ad_examples]. \\href[https://github.com/firmai/atspy][atspy]. \\href[https://github.com/exoplanet-dev/exoplanet][exoplanet]. \\href[https://github.com/AIStream-Peelout/flow-forecast][flow-forecast]. \\href[https://github.com/awslabs/gluon-ts][gluon-ts]. \\href[https://github.com/heidelbergcement/hcrystalball][hcrystalball]. \\href[https://github.com/KeplerGO/lightkurve][lightkurve]. \\href[https://github.com/regel/loudml][loudml]. \\href[https://github.com/matrix-profile-foundation/matrixprofile][matrixprofile]. \\href[https://github.com/ourownstory/neural_prophet][neural_prophet]. \\href[https://github.com/PYFTS/pyFTS][pyFTS]. \\href[https://github.com/wwrechard/pydlm][pydlm]. \\href[https://github.com/datamllab/pyodds][pyodds]. \\href[https://github.com/johannfaouzi/pyts][pyts]. \\href[https://github.com/alan-turing-institute/sktime][sktime]. \\href[https://github.com/sktime/sktime-dl][sktime-dl]. \\href[https://github.com/earthgecko/skyline][skyline]. \\href[https://github.com/TDAmeritrade/stumpy][stumpy]. \\href[https://github.com/tslearn-team/tslearn][tslearn]. \\href[https://github.com/filippogiruzzi/voice_activity_detection][voice_activity_detection]\n"
     ]
    }
   ],
   "source": [
    "print(f'found {len(duplicates.full_name.unique())} duplicated unique repositories')\n",
    "print(\n",
    "    '. '.join([f'\\href[{vals[0]}][{vals[1]}]' for i, vals in duplicates[['html_url', 'name']].drop_duplicates().iterrows()])\n",
    ")"
   ]
  },
  {
   "cell_type": "code",
   "execution_count": 46,
   "metadata": {},
   "outputs": [
    {
     "name": "stdout",
     "output_type": "stream",
     "text": [
      "dropping 34 rows\n"
     ]
    }
   ],
   "source": [
    "length_before_drop = len(dataframe)\n",
    "dataframe = dataframe.drop_duplicates(subset='name')\n",
    "print(f'dropping {length_before_drop - len(dataframe)} rows')"
   ]
  },
  {
   "cell_type": "code",
   "execution_count": 47,
   "metadata": {},
   "outputs": [],
   "source": [
    "# sanity check\n",
    "assert len(dataframe.name.unique()) == len(dataframe), 'still have duplicates!'"
   ]
  },
  {
   "cell_type": "code",
   "execution_count": 48,
   "metadata": {},
   "outputs": [
    {
     "data": {
      "text/plain": [
       "(101, 77)"
      ]
     },
     "execution_count": 48,
     "metadata": {},
     "output_type": "execute_result"
    }
   ],
   "source": [
    "dataframe.shape"
   ]
  },
  {
   "cell_type": "markdown",
   "metadata": {},
   "source": [
    "## Checking if package is indexed by Pypi.org"
   ]
  },
  {
   "cell_type": "code",
   "execution_count": 99,
   "metadata": {
    "jupyter": {
     "source_hidden": true
    }
   },
   "outputs": [],
   "source": [
    "import requests"
   ]
  },
  {
   "cell_type": "code",
   "execution_count": 100,
   "metadata": {
    "jupyter": {
     "source_hidden": true
    }
   },
   "outputs": [],
   "source": [
    "headers = {'Content-Type': 'application/json'}"
   ]
  },
  {
   "cell_type": "code",
   "execution_count": 101,
   "metadata": {
    "jupyter": {
     "source_hidden": true
    }
   },
   "outputs": [],
   "source": [
    "is_package = {name: requests.get(f'https://pypi.org/pypi/{name}/json', headers=headers).status_code == 200 for name in dataframe.name}"
   ]
  },
  {
   "cell_type": "code",
   "execution_count": 102,
   "metadata": {
    "jupyter": {
     "source_hidden": true
    }
   },
   "outputs": [],
   "source": [
    "is_package = pd.Series(is_package)"
   ]
  },
  {
   "cell_type": "code",
   "execution_count": 103,
   "metadata": {
    "collapsed": true,
    "jupyter": {
     "outputs_hidden": true,
     "source_hidden": true
    }
   },
   "outputs": [
    {
     "data": {
      "text/plain": [
       "57"
      ]
     },
     "execution_count": 103,
     "metadata": {},
     "output_type": "execute_result"
    }
   ],
   "source": [
    "is_package.sum()"
   ]
  },
  {
   "cell_type": "code",
   "execution_count": 104,
   "metadata": {
    "jupyter": {
     "source_hidden": true
    }
   },
   "outputs": [],
   "source": [
    "dataframe = dataframe.join(pd.Series(is_package, name='is_package'), on='name')"
   ]
  },
  {
   "cell_type": "code",
   "execution_count": 105,
   "metadata": {
    "jupyter": {
     "source_hidden": true
    }
   },
   "outputs": [
    {
     "data": {
      "text/plain": [
       "57"
      ]
     },
     "execution_count": 105,
     "metadata": {},
     "output_type": "execute_result"
    }
   ],
   "source": [
    "dataframe.is_package.sum()"
   ]
  },
  {
   "cell_type": "markdown",
   "metadata": {},
   "source": [
    "## Saving preprocessed results"
   ]
  },
  {
   "cell_type": "code",
   "execution_count": 49,
   "metadata": {},
   "outputs": [],
   "source": [
    "dataframe.to_csv('preprocessed_results.csv', index=True)"
   ]
  },
  {
   "cell_type": "code",
   "execution_count": null,
   "metadata": {},
   "outputs": [],
   "source": []
  }
 ],
 "metadata": {
  "kernelspec": {
   "display_name": "Python 3",
   "language": "python",
   "name": "python3"
  },
  "language_info": {
   "codemirror_mode": {
    "name": "ipython",
    "version": 3
   },
   "file_extension": ".py",
   "mimetype": "text/x-python",
   "name": "python",
   "nbconvert_exporter": "python",
   "pygments_lexer": "ipython3",
   "version": "3.8.6"
  }
 },
 "nbformat": 4,
 "nbformat_minor": 4
}
