{
 "cells": [
  {
   "cell_type": "code",
   "execution_count": 1,
   "metadata": {},
   "outputs": [],
   "source": [
    "import pandas as pd\n",
    "from pathlib import Path\n",
    "import logging\n",
    "import json\n",
    "\n",
    "import matplotlib.pyplot as plt\n",
    "import seaborn as sns"
   ]
  },
  {
   "cell_type": "code",
   "execution_count": 2,
   "metadata": {},
   "outputs": [],
   "source": [
    "filename = Path(r'C:\\Users\\siebert\\PycharmProjects\\interactive-time-series-analysis\\review\\search\\preprocessed_results.csv')\n",
    "df = pd.read_csv(filename).set_index('id').drop_duplicates(subset='name')"
   ]
  },
  {
   "cell_type": "code",
   "execution_count": 3,
   "metadata": {},
   "outputs": [
    {
     "name": "stdout",
     "output_type": "stream",
     "text": [
      "<class 'pandas.core.frame.DataFrame'>\n",
      "Int64Index: 101 entries, 23389271 to 6309729\n",
      "Data columns (total 77 columns):\n",
      " #   Column             Non-Null Count  Dtype  \n",
      "---  ------             --------------  -----  \n",
      " 0   node_id            101 non-null    object \n",
      " 1   name               101 non-null    object \n",
      " 2   full_name          101 non-null    object \n",
      " 3   private            101 non-null    bool   \n",
      " 4   owner              101 non-null    object \n",
      " 5   html_url           101 non-null    object \n",
      " 6   description        101 non-null    object \n",
      " 7   fork               101 non-null    bool   \n",
      " 8   url                101 non-null    object \n",
      " 9   forks_url          101 non-null    object \n",
      " 10  keys_url           101 non-null    object \n",
      " 11  collaborators_url  101 non-null    object \n",
      " 12  teams_url          101 non-null    object \n",
      " 13  hooks_url          101 non-null    object \n",
      " 14  issue_events_url   101 non-null    object \n",
      " 15  events_url         101 non-null    object \n",
      " 16  assignees_url      101 non-null    object \n",
      " 17  branches_url       101 non-null    object \n",
      " 18  tags_url           101 non-null    object \n",
      " 19  blobs_url          101 non-null    object \n",
      " 20  git_tags_url       101 non-null    object \n",
      " 21  git_refs_url       101 non-null    object \n",
      " 22  trees_url          101 non-null    object \n",
      " 23  statuses_url       101 non-null    object \n",
      " 24  languages_url      101 non-null    object \n",
      " 25  stargazers_url     101 non-null    object \n",
      " 26  contributors_url   101 non-null    object \n",
      " 27  subscribers_url    101 non-null    object \n",
      " 28  subscription_url   101 non-null    object \n",
      " 29  commits_url        101 non-null    object \n",
      " 30  git_commits_url    101 non-null    object \n",
      " 31  comments_url       101 non-null    object \n",
      " 32  issue_comment_url  101 non-null    object \n",
      " 33  contents_url       101 non-null    object \n",
      " 34  compare_url        101 non-null    object \n",
      " 35  merges_url         101 non-null    object \n",
      " 36  archive_url        101 non-null    object \n",
      " 37  downloads_url      101 non-null    object \n",
      " 38  issues_url         101 non-null    object \n",
      " 39  pulls_url          101 non-null    object \n",
      " 40  milestones_url     101 non-null    object \n",
      " 41  notifications_url  101 non-null    object \n",
      " 42  labels_url         101 non-null    object \n",
      " 43  releases_url       101 non-null    object \n",
      " 44  deployments_url    101 non-null    object \n",
      " 45  created_at         101 non-null    object \n",
      " 46  updated_at         101 non-null    object \n",
      " 47  pushed_at          101 non-null    object \n",
      " 48  git_url            101 non-null    object \n",
      " 49  ssh_url            101 non-null    object \n",
      " 50  clone_url          101 non-null    object \n",
      " 51  svn_url            101 non-null    object \n",
      " 52  homepage           59 non-null     object \n",
      " 53  size               101 non-null    int64  \n",
      " 54  stargazers_count   101 non-null    int64  \n",
      " 55  watchers_count     101 non-null    int64  \n",
      " 56  language           101 non-null    object \n",
      " 57  has_issues         101 non-null    bool   \n",
      " 58  has_projects       101 non-null    bool   \n",
      " 59  has_downloads      101 non-null    bool   \n",
      " 60  has_wiki           101 non-null    bool   \n",
      " 61  has_pages          101 non-null    bool   \n",
      " 62  forks_count        101 non-null    int64  \n",
      " 63  mirror_url         0 non-null      float64\n",
      " 64  archived           101 non-null    bool   \n",
      " 65  disabled           101 non-null    bool   \n",
      " 66  open_issues_count  101 non-null    int64  \n",
      " 67  license            96 non-null     object \n",
      " 68  forks              101 non-null    int64  \n",
      " 69  open_issues        101 non-null    int64  \n",
      " 70  watchers           101 non-null    int64  \n",
      " 71  default_branch     101 non-null    object \n",
      " 72  score              81 non-null     float64\n",
      " 73  temp_clone_token   0 non-null      float64\n",
      " 74  organization       14 non-null     object \n",
      " 75  network_count      20 non-null     float64\n",
      " 76  subscribers_count  20 non-null     float64\n",
      "dtypes: bool(9), float64(5), int64(8), object(55)\n",
      "memory usage: 55.3+ KB\n"
     ]
    }
   ],
   "source": [
    "df.info()"
   ]
  },
  {
   "cell_type": "code",
   "execution_count": 4,
   "metadata": {},
   "outputs": [],
   "source": [
    "ids_to_check = [\n",
    "23468876,\n",
    "236661502,\n",
    "104569445,\n",
    "148657183,\n",
    "80764246,\n",
    "202580388,\n",
    "186872119,\n",
    "275794599,\n",
    "69400415,\n",
    "278175856,\n",
    "198119545,\n",
    "261086130,\n",
    "86715491,\n",
    "70790978,\n",
    "1678015,\n",
    "62207281,\n",
    "65324353,\n",
    "46355863,\n",
    "213480284,\n",
    "247768523,\n",
    "98871435,\n",
    "11591264,\n",
    "118264731,\n",
    "123977530,\n",
    "156401841,\n",
    "198628357,\n",
    "1885237,\n",
    "184809315,\n",
    "25037129,\n",
    "90264407,\n",
    "71996613,\n",
    "64942583,\n",
    "25928850,\n",
    "127010483,\n",
    "253993655,\n",
    "18031064,\n",
    "82291672,\n",
    "59207352,\n",
    "73872834,\n",
    "110717885,\n",
    "]"
   ]
  },
  {
   "cell_type": "code",
   "execution_count": 5,
   "metadata": {},
   "outputs": [
    {
     "data": {
      "text/plain": [
       "40"
      ]
     },
     "execution_count": 5,
     "metadata": {},
     "output_type": "execute_result"
    }
   ],
   "source": [
    "len(ids_to_check)"
   ]
  },
  {
   "cell_type": "code",
   "execution_count": 6,
   "metadata": {},
   "outputs": [],
   "source": [
    "not_provided = '{\"key\": \"none\", \"name\": \"None\", \"spdx_id\": \"NOASSERTION\", \"url\": \"None\", \"node_id\": \"0\"}'\n",
    "licenses_values = []\n",
    "licenses_index = []\n",
    "for idx, license in df.loc[ids_to_check,:].license.str.replace('\"','\\\\\"').str.replace(\"'\", \"\\\"\").fillna(not_provided).iteritems():\n",
    "    #print(license)\n",
    "    try:\n",
    "        license_data = json.loads(license)\n",
    "        licenses_values.append(license_data)\n",
    "        licenses_index.append(idx)\n",
    "    except json.JSONDecodeError as e:\n",
    "        if '\"key\": \"other\"' in license:\n",
    "            license_data = {\"key\": \"other\", \"name\": \"Other\", \"spdx_id\": \"NOASSERTION\", \"url\": None, \"node_id\": \"MDc6TGljZW5zZTA=\"}\n",
    "            licenses_values.append(license_data)\n",
    "            licenses_index.append(idx)\n",
    "        else:\n",
    "            print(idx, license, e)"
   ]
  },
  {
   "cell_type": "code",
   "execution_count": 7,
   "metadata": {},
   "outputs": [],
   "source": [
    "licenses = pd.DataFrame(data=licenses_values, index=licenses_index)"
   ]
  },
  {
   "cell_type": "code",
   "execution_count": 8,
   "metadata": {},
   "outputs": [
    {
     "name": "stdout",
     "output_type": "stream",
     "text": [
      "<class 'pandas.core.frame.DataFrame'>\n",
      "Int64Index: 40 entries, 23468876 to 110717885\n",
      "Data columns (total 5 columns):\n",
      " #   Column   Non-Null Count  Dtype \n",
      "---  ------   --------------  ----- \n",
      " 0   key      40 non-null     object\n",
      " 1   name     40 non-null     object\n",
      " 2   spdx_id  40 non-null     object\n",
      " 3   url      31 non-null     object\n",
      " 4   node_id  40 non-null     object\n",
      "dtypes: object(5)\n",
      "memory usage: 1.9+ KB\n"
     ]
    }
   ],
   "source": [
    "licenses.info()"
   ]
  },
  {
   "cell_type": "code",
   "execution_count": 9,
   "metadata": {},
   "outputs": [
    {
     "data": {
      "image/png": "[encoded data removed]",
      "text/plain": [
       "<Figure size 432x288 with 1 Axes>"
      ]
     },
     "metadata": {
      "needs_background": "light"
     },
     "output_type": "display_data"
    }
   ],
   "source": [
    "fig, ax = plt.subplots(figsize=(6,4))\n",
    "s = licenses.groupby('name').size().sort_values()\n",
    "\n",
    "rects = ax.barh(s.index, s.values)\n",
    "\n",
    "ax.set_ylabel('Licenses')\n",
    "ax.set_xlabel('Number of repositories')\n",
    "# ax.set_title('Number of repositories per license')\n",
    "\n",
    "def autolabel(rects):\n",
    "    \"\"\"Attach a text label above each bar in *rects*, displaying its height.\"\"\"\n",
    "    for rect in rects:\n",
    "        width = rect.get_width()\n",
    "        ax.annotate(f'{width}',\n",
    "                    xy=(width, rect.get_y() + rect.get_height() / 2),\n",
    "                    xytext=(10, -5),  # 3 points vertical offset\n",
    "                    textcoords=\"offset points\",\n",
    "                    ha='center', va='bottom')\n",
    "autolabel(rects)\n",
    "ax.set_xlim(0,s.max()*1.1)\n",
    "ax.set_xticks(range(0,int(s.max()*1.1),2))\n",
    "fig.tight_layout()\n",
    "\n",
    "plt.savefig('../latex/images/nb-items-per-license.pdf')"
   ]
  },
  {
   "cell_type": "code",
   "execution_count": null,
   "metadata": {},
   "outputs": [],
   "source": []
  }
 ],
 "metadata": {
  "kernelspec": {
   "display_name": "Python 3",
   "language": "python",
   "name": "python3"
  },
  "language_info": {
   "codemirror_mode": {
    "name": "ipython",
    "version": 3
   },
   "file_extension": ".py",
   "mimetype": "text/x-python",
   "name": "python",
   "nbconvert_exporter": "python",
   "pygments_lexer": "ipython3",
   "version": "3.8.6"
  }
 },
 "nbformat": 4,
 "nbformat_minor": 4
}
