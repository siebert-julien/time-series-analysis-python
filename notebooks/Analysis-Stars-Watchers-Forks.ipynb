{
 "cells": [
  {
   "cell_type": "code",
   "execution_count": 2,
   "metadata": {},
   "outputs": [],
   "source": [
    "import pandas as pd\n",
    "from pathlib import Path\n",
    "import logging\n",
    "import json\n",
    "\n",
    "import matplotlib.pyplot as plt\n",
    "import seaborn as sns"
   ]
  },
  {
   "cell_type": "code",
   "execution_count": 3,
   "metadata": {},
   "outputs": [],
   "source": [
    "filename = Path(r'C:\\Users\\siebert\\PycharmProjects\\interactive-time-series-analysis\\review\\search\\preprocessed_results.csv')\n",
    "df = pd.read_csv(filename).set_index('id').drop_duplicates(subset='name')"
   ]
  },
  {
   "cell_type": "code",
   "execution_count": 4,
   "metadata": {},
   "outputs": [
    {
     "name": "stdout",
     "output_type": "stream",
     "text": [
      "<class 'pandas.core.frame.DataFrame'>\n",
      "Int64Index: 101 entries, 23389271 to 6309729\n",
      "Data columns (total 77 columns):\n",
      " #   Column             Non-Null Count  Dtype  \n",
      "---  ------             --------------  -----  \n",
      " 0   node_id            101 non-null    object \n",
      " 1   name               101 non-null    object \n",
      " 2   full_name          101 non-null    object \n",
      " 3   private            101 non-null    bool   \n",
      " 4   owner              101 non-null    object \n",
      " 5   html_url           101 non-null    object \n",
      " 6   description        101 non-null    object \n",
      " 7   fork               101 non-null    bool   \n",
      " 8   url                101 non-null    object \n",
      " 9   forks_url          101 non-null    object \n",
      " 10  keys_url           101 non-null    object \n",
      " 11  collaborators_url  101 non-null    object \n",
      " 12  teams_url          101 non-null    object \n",
      " 13  hooks_url          101 non-null    object \n",
      " 14  issue_events_url   101 non-null    object \n",
      " 15  events_url         101 non-null    object \n",
      " 16  assignees_url      101 non-null    object \n",
      " 17  branches_url       101 non-null    object \n",
      " 18  tags_url           101 non-null    object \n",
      " 19  blobs_url          101 non-null    object \n",
      " 20  git_tags_url       101 non-null    object \n",
      " 21  git_refs_url       101 non-null    object \n",
      " 22  trees_url          101 non-null    object \n",
      " 23  statuses_url       101 non-null    object \n",
      " 24  languages_url      101 non-null    object \n",
      " 25  stargazers_url     101 non-null    object \n",
      " 26  contributors_url   101 non-null    object \n",
      " 27  subscribers_url    101 non-null    object \n",
      " 28  subscription_url   101 non-null    object \n",
      " 29  commits_url        101 non-null    object \n",
      " 30  git_commits_url    101 non-null    object \n",
      " 31  comments_url       101 non-null    object \n",
      " 32  issue_comment_url  101 non-null    object \n",
      " 33  contents_url       101 non-null    object \n",
      " 34  compare_url        101 non-null    object \n",
      " 35  merges_url         101 non-null    object \n",
      " 36  archive_url        101 non-null    object \n",
      " 37  downloads_url      101 non-null    object \n",
      " 38  issues_url         101 non-null    object \n",
      " 39  pulls_url          101 non-null    object \n",
      " 40  milestones_url     101 non-null    object \n",
      " 41  notifications_url  101 non-null    object \n",
      " 42  labels_url         101 non-null    object \n",
      " 43  releases_url       101 non-null    object \n",
      " 44  deployments_url    101 non-null    object \n",
      " 45  created_at         101 non-null    object \n",
      " 46  updated_at         101 non-null    object \n",
      " 47  pushed_at          101 non-null    object \n",
      " 48  git_url            101 non-null    object \n",
      " 49  ssh_url            101 non-null    object \n",
      " 50  clone_url          101 non-null    object \n",
      " 51  svn_url            101 non-null    object \n",
      " 52  homepage           59 non-null     object \n",
      " 53  size               101 non-null    int64  \n",
      " 54  stargazers_count   101 non-null    int64  \n",
      " 55  watchers_count     101 non-null    int64  \n",
      " 56  language           101 non-null    object \n",
      " 57  has_issues         101 non-null    bool   \n",
      " 58  has_projects       101 non-null    bool   \n",
      " 59  has_downloads      101 non-null    bool   \n",
      " 60  has_wiki           101 non-null    bool   \n",
      " 61  has_pages          101 non-null    bool   \n",
      " 62  forks_count        101 non-null    int64  \n",
      " 63  mirror_url         0 non-null      float64\n",
      " 64  archived           101 non-null    bool   \n",
      " 65  disabled           101 non-null    bool   \n",
      " 66  open_issues_count  101 non-null    int64  \n",
      " 67  license            96 non-null     object \n",
      " 68  forks              101 non-null    int64  \n",
      " 69  open_issues        101 non-null    int64  \n",
      " 70  watchers           101 non-null    int64  \n",
      " 71  default_branch     101 non-null    object \n",
      " 72  score              81 non-null     float64\n",
      " 73  temp_clone_token   0 non-null      float64\n",
      " 74  organization       14 non-null     object \n",
      " 75  network_count      20 non-null     float64\n",
      " 76  subscribers_count  20 non-null     float64\n",
      "dtypes: bool(9), float64(5), int64(8), object(55)\n",
      "memory usage: 55.3+ KB\n"
     ]
    }
   ],
   "source": [
    "df.info()"
   ]
  },
  {
   "cell_type": "code",
   "execution_count": 5,
   "metadata": {},
   "outputs": [],
   "source": [
    "ids_to_check = [\n",
    "23468876,\n",
    "236661502,\n",
    "104569445,\n",
    "148657183,\n",
    "80764246,\n",
    "202580388,\n",
    "186872119,\n",
    "275794599,\n",
    "69400415,\n",
    "278175856,\n",
    "198119545,\n",
    "261086130,\n",
    "86715491,\n",
    "70790978,\n",
    "1678015,\n",
    "62207281,\n",
    "65324353,\n",
    "46355863,\n",
    "213480284,\n",
    "247768523,\n",
    "98871435,\n",
    "11591264,\n",
    "118264731,\n",
    "123977530,\n",
    "156401841,\n",
    "198628357,\n",
    "1885237,\n",
    "184809315,\n",
    "25037129,\n",
    "90264407,\n",
    "71996613,\n",
    "64942583,\n",
    "25928850,\n",
    "127010483,\n",
    "253993655,\n",
    "18031064,\n",
    "82291672,\n",
    "59207352,\n",
    "73872834,\n",
    "110717885,\n",
    "]"
   ]
  },
  {
   "cell_type": "code",
   "execution_count": 6,
   "metadata": {},
   "outputs": [],
   "source": [
    "stats = df.loc[ids_to_check,['name', 'html_url', 'size', 'stargazers_count', 'forks_count']].copy()"
   ]
  },
  {
   "cell_type": "code",
   "execution_count": 7,
   "metadata": {},
   "outputs": [
    {
     "name": "stdout",
     "output_type": "stream",
     "text": [
      "<class 'pandas.core.frame.DataFrame'>\n",
      "Int64Index: 40 entries, 23468876 to 110717885\n",
      "Data columns (total 5 columns):\n",
      " #   Column            Non-Null Count  Dtype \n",
      "---  ------            --------------  ----- \n",
      " 0   name              40 non-null     object\n",
      " 1   html_url          40 non-null     object\n",
      " 2   size              40 non-null     int64 \n",
      " 3   stargazers_count  40 non-null     int64 \n",
      " 4   forks_count       40 non-null     int64 \n",
      "dtypes: int64(3), object(2)\n",
      "memory usage: 1.9+ KB\n"
     ]
    }
   ],
   "source": [
    "stats.info()"
   ]
  },
  {
   "cell_type": "code",
   "execution_count": 8,
   "metadata": {},
   "outputs": [
    {
     "data": {
      "text/plain": [
       "name\n",
       "prophet             12256\n",
       "statsmodels          5931\n",
       "tsfresh              5326\n",
       "sktime               3467\n",
       "hmmlearn             2185\n",
       "gluon-ts             1679\n",
       "stumpy               1640\n",
       "hypertools           1610\n",
       "tslearn              1446\n",
       "pywt                 1053\n",
       "neural_prophet       1038\n",
       "pyts                  855\n",
       "pmdarima              800\n",
       "darts                 699\n",
       "arch                  633\n",
       "ruptures              588\n",
       "cesium                512\n",
       "scikit-multiflow      480\n",
       "dtaidistance          477\n",
       "seglearn              413\n",
       "linearmodels          398\n",
       "PyEMD                 393\n",
       "sktime-dl             354\n",
       "pydlm                 352\n",
       "deltapy               341\n",
       "atspy                 327\n",
       "mcfly                 311\n",
       "pytorch-ts            282\n",
       "pyaf                  280\n",
       "flow-forecast         255\n",
       "banpei                225\n",
       "luminaire             189\n",
       "tftb                  181\n",
       "pyFTS                 146\n",
       "pycwt                 140\n",
       "pyodds                132\n",
       "deeptime              129\n",
       "matrixprofile         123\n",
       "nolds                 121\n",
       "hcrystalball          100\n",
       "Name: stargazers_count, dtype: int64"
      ]
     },
     "execution_count": 8,
     "metadata": {},
     "output_type": "execute_result"
    }
   ],
   "source": [
    "stats.set_index('name')['stargazers_count'].sort_values(ascending=False)"
   ]
  },
  {
   "cell_type": "code",
   "execution_count": 9,
   "metadata": {},
   "outputs": [
    {
     "data": {
      "image/png": "[encoded data removed]",
      "text/plain": [
       "<Figure size 432x288 with 2 Axes>"
      ]
     },
     "metadata": {
      "needs_background": "light"
     },
     "output_type": "display_data"
    }
   ],
   "source": [
    "fig, ax = plt.subplots(figsize=(6,4))\n",
    "s = stats.set_index('name')[['stargazers_count','forks_count']].sort_values(ascending=False, by='stargazers_count')\n",
    "s = s.reset_index()\n",
    "#s = s[s>=1000]\n",
    "hs, = ax.plot(s.index, s.stargazers_count, label='stars')\n",
    "ax1 = ax.twinx()\n",
    "hf, = ax1.plot(s.index, s.forks_count, linestyle='--', color='C1', label='forks')\n",
    "ax.set_yscale('log')\n",
    "ax1.set_yscale('log')\n",
    "ax.set_xlabel('Package rank')\n",
    "ax.set_ylabel('Stars (log scale)')\n",
    "ax1.set_ylabel('Forks (log scale)')\n",
    "\n",
    "# annotate the top 10 packages\n",
    "top = 5\n",
    "y = [10**(4-i/top) for i in range(top)]\n",
    "for i in range(top):\n",
    "    text = s.name.iloc[i]\n",
    "    stars = s.stargazers_count.iloc[i]\n",
    "    forks = s.forks_count.iloc[i]\n",
    "    ax.annotate(f'{text} ({stars}, {forks})',\n",
    "                xy=(i, stars), xycoords='data',\n",
    "                xytext=(15, y[i]), textcoords='data',\n",
    "                arrowprops=dict(arrowstyle=\"->\",\n",
    "                                connectionstyle=\"arc3\",\n",
    "                               alpha=0.5, linestyle='--'),\n",
    "                alpha=1,\n",
    "                )\n",
    "\n",
    "ax.legend(handles=[hs,hf],labels=['stars','forks'],bbox_to_anchor=(1.05, 1), loc=2, borderaxespad=0.)\n",
    "plt.tight_layout()\n",
    "plt.savefig('../latex/images/distribution-stars.pdf')"
   ]
  },
  {
   "cell_type": "code",
   "execution_count": 19,
   "metadata": {},
   "outputs": [
    {
     "data": {
      "image/png": "[encoded data removed]",
      "text/plain": [
       "<Figure size 432x288 with 1 Axes>"
      ]
     },
     "metadata": {
      "needs_background": "light"
     },
     "output_type": "display_data"
    }
   ],
   "source": [
    "fig, ax = plt.subplots(figsize=(6,4))\n",
    "\n",
    "#s = s[s>=1000]\n",
    "s= stats.set_index('name')[['stargazers_count', 'forks_count']]\n",
    "\n",
    "s.plot.scatter(x='stargazers_count', y='forks_count', ax=ax)\n",
    "ax.set_yscale('log')\n",
    "ax.set_xscale('log')\n",
    "ax.set_xlabel('Stars (log scale)')\n",
    "ax.set_ylabel('Forks (log scale)')\n",
    "\n",
    "# annotate the top 10 packages\n",
    "plt.tight_layout()\n",
    "plt.savefig('../latex/images/distribution-stars.pdf')"
   ]
  },
  {
   "cell_type": "code",
   "execution_count": null,
   "metadata": {},
   "outputs": [],
   "source": []
  }
 ],
 "metadata": {
  "kernelspec": {
   "display_name": "Python 3",
   "language": "python",
   "name": "python3"
  },
  "language_info": {
   "codemirror_mode": {
    "name": "ipython",
    "version": 3
   },
   "file_extension": ".py",
   "mimetype": "text/x-python",
   "name": "python",
   "nbconvert_exporter": "python",
   "pygments_lexer": "ipython3",
   "version": "3.8.6"
  }
 },
 "nbformat": 4,
 "nbformat_minor": 4
}
