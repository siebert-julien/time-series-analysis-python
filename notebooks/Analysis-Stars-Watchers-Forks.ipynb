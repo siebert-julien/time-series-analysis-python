{
 "cells": [
  {
   "cell_type": "code",
   "execution_count": 3,
   "metadata": {},
   "outputs": [],
   "source": [
    "import pandas as pd\n",
    "from pathlib import Path\n",
    "import logging\n",
    "import json\n",
    "\n",
    "import matplotlib.pyplot as plt\n",
    "import seaborn as sns"
   ]
  },
  {
   "cell_type": "code",
   "execution_count": 4,
   "metadata": {},
   "outputs": [],
   "source": [
    "data_directory = Path(r'../data/')\n",
    "filename = data_directory / 'preprocessed' / 'github_results.csv'\n",
    "df = pd.read_csv(filename).set_index('id').drop_duplicates(subset='name')"
   ]
  },
  {
   "cell_type": "code",
   "execution_count": 5,
   "metadata": {},
   "outputs": [
    {
     "name": "stdout",
     "output_type": "stream",
     "text": [
      "<class 'pandas.core.frame.DataFrame'>\n",
      "Float64Index: 129 entries, 23389271.0 to 6309729.0\n",
      "Data columns (total 80 columns):\n",
      " #   Column             Non-Null Count  Dtype  \n",
      "---  ------             --------------  -----  \n",
      " 0   Unnamed: 0         129 non-null    int64  \n",
      " 1   node_id            129 non-null    object \n",
      " 2   name               129 non-null    object \n",
      " 3   full_name          129 non-null    object \n",
      " 4   private            129 non-null    bool   \n",
      " 5   owner              129 non-null    object \n",
      " 6   html_url           129 non-null    object \n",
      " 7   description        129 non-null    object \n",
      " 8   fork               129 non-null    bool   \n",
      " 9   url                129 non-null    object \n",
      " 10  forks_url          129 non-null    object \n",
      " 11  keys_url           129 non-null    object \n",
      " 12  collaborators_url  129 non-null    object \n",
      " 13  teams_url          129 non-null    object \n",
      " 14  hooks_url          129 non-null    object \n",
      " 15  issue_events_url   129 non-null    object \n",
      " 16  events_url         129 non-null    object \n",
      " 17  assignees_url      129 non-null    object \n",
      " 18  branches_url       129 non-null    object \n",
      " 19  tags_url           129 non-null    object \n",
      " 20  blobs_url          129 non-null    object \n",
      " 21  git_tags_url       129 non-null    object \n",
      " 22  git_refs_url       129 non-null    object \n",
      " 23  trees_url          129 non-null    object \n",
      " 24  statuses_url       129 non-null    object \n",
      " 25  languages_url      129 non-null    object \n",
      " 26  stargazers_url     129 non-null    object \n",
      " 27  contributors_url   129 non-null    object \n",
      " 28  subscribers_url    129 non-null    object \n",
      " 29  subscription_url   129 non-null    object \n",
      " 30  commits_url        129 non-null    object \n",
      " 31  git_commits_url    129 non-null    object \n",
      " 32  comments_url       129 non-null    object \n",
      " 33  issue_comment_url  129 non-null    object \n",
      " 34  contents_url       129 non-null    object \n",
      " 35  compare_url        129 non-null    object \n",
      " 36  merges_url         129 non-null    object \n",
      " 37  archive_url        129 non-null    object \n",
      " 38  downloads_url      129 non-null    object \n",
      " 39  issues_url         129 non-null    object \n",
      " 40  pulls_url          129 non-null    object \n",
      " 41  milestones_url     129 non-null    object \n",
      " 42  notifications_url  129 non-null    object \n",
      " 43  labels_url         129 non-null    object \n",
      " 44  releases_url       129 non-null    object \n",
      " 45  deployments_url    129 non-null    object \n",
      " 46  created_at         129 non-null    object \n",
      " 47  updated_at         129 non-null    object \n",
      " 48  pushed_at          129 non-null    object \n",
      " 49  git_url            129 non-null    object \n",
      " 50  ssh_url            129 non-null    object \n",
      " 51  clone_url          129 non-null    object \n",
      " 52  svn_url            129 non-null    object \n",
      " 53  homepage           73 non-null     object \n",
      " 54  size               129 non-null    float64\n",
      " 55  stargazers_count   129 non-null    float64\n",
      " 56  watchers_count     129 non-null    float64\n",
      " 57  language           129 non-null    object \n",
      " 58  has_issues         129 non-null    bool   \n",
      " 59  has_projects       129 non-null    bool   \n",
      " 60  has_downloads      129 non-null    bool   \n",
      " 61  has_wiki           129 non-null    bool   \n",
      " 62  has_pages          129 non-null    bool   \n",
      " 63  forks_count        129 non-null    float64\n",
      " 64  mirror_url         0 non-null      float64\n",
      " 65  archived           129 non-null    bool   \n",
      " 66  disabled           129 non-null    bool   \n",
      " 67  open_issues_count  129 non-null    float64\n",
      " 68  license            123 non-null    object \n",
      " 69  forks              129 non-null    float64\n",
      " 70  open_issues        129 non-null    float64\n",
      " 71  watchers           129 non-null    float64\n",
      " 72  default_branch     129 non-null    object \n",
      " 73  permissions        129 non-null    object \n",
      " 74  score              110 non-null    float64\n",
      " 75  Unnamed: 0.1       0 non-null      float64\n",
      " 76  temp_clone_token   0 non-null      float64\n",
      " 77  organization       13 non-null     object \n",
      " 78  network_count      19 non-null     float64\n",
      " 79  subscribers_count  19 non-null     float64\n",
      "dtypes: bool(9), float64(14), int64(1), object(56)\n",
      "memory usage: 73.7+ KB\n"
     ]
    }
   ],
   "source": [
    "df.info()"
   ]
  },
  {
   "cell_type": "code",
   "execution_count": 6,
   "metadata": {},
   "outputs": [],
   "source": [
    "ids_to_check = [\n",
    "23468876,\n",
    "236661502,\n",
    "104569445,\n",
    "148657183,\n",
    "80764246,\n",
    "202580388,\n",
    "186872119,\n",
    "275794599,\n",
    "69400415,\n",
    "278175856,\n",
    "198119545,\n",
    "261086130,\n",
    "86715491,\n",
    "70790978,\n",
    "1678015,\n",
    "62207281,\n",
    "65324353,\n",
    "46355863,\n",
    "213480284,\n",
    "247768523,\n",
    "98871435,\n",
    "11591264,\n",
    "118264731,\n",
    "123977530,\n",
    "156401841,\n",
    "198628357,\n",
    "1885237,\n",
    "184809315,\n",
    "25037129,\n",
    "90264407,\n",
    "71996613,\n",
    "64942583,\n",
    "25928850,\n",
    "127010483,\n",
    "253993655,\n",
    "18031064,\n",
    "82291672,\n",
    "59207352,\n",
    "73872834,\n",
    "110717885,\n",
    "]"
   ]
  },
  {
   "cell_type": "code",
   "execution_count": 7,
   "metadata": {},
   "outputs": [],
   "source": [
    "stats = df.loc[ids_to_check,['name', 'html_url', 'size', 'stargazers_count', 'forks_count']].copy()"
   ]
  },
  {
   "cell_type": "code",
   "execution_count": 8,
   "metadata": {},
   "outputs": [
    {
     "name": "stdout",
     "output_type": "stream",
     "text": [
      "<class 'pandas.core.frame.DataFrame'>\n",
      "Int64Index: 40 entries, 23468876 to 110717885\n",
      "Data columns (total 5 columns):\n",
      " #   Column            Non-Null Count  Dtype  \n",
      "---  ------            --------------  -----  \n",
      " 0   name              40 non-null     object \n",
      " 1   html_url          40 non-null     object \n",
      " 2   size              40 non-null     float64\n",
      " 3   stargazers_count  40 non-null     float64\n",
      " 4   forks_count       40 non-null     float64\n",
      "dtypes: float64(3), object(2)\n",
      "memory usage: 1.9+ KB\n"
     ]
    }
   ],
   "source": [
    "stats.info()"
   ]
  },
  {
   "cell_type": "code",
   "execution_count": 9,
   "metadata": {},
   "outputs": [
    {
     "data": {
      "text/plain": [
       "name\n",
       "prophet             13013.0\n",
       "statsmodels          6444.0\n",
       "tsfresh              5784.0\n",
       "sktime               4204.0\n",
       "hmmlearn             2292.0\n",
       "gluon-ts             2004.0\n",
       "stumpy               1837.0\n",
       "tslearn              1707.0\n",
       "hypertools           1651.0\n",
       "neural_prophet       1312.0\n",
       "darts                1209.0\n",
       "pywt                 1176.0\n",
       "pyts                  993.0\n",
       "pmdarima              927.0\n",
       "ruptures              754.0\n",
       "arch                  752.0\n",
       "flow-forecast         589.0\n",
       "dtaidistance          570.0\n",
       "cesium                548.0\n",
       "scikit-multiflow      530.0\n",
       "seglearn              463.0\n",
       "linearmodels          462.0\n",
       "PyEMD                 454.0\n",
       "pytorch-ts            440.0\n",
       "sktime-dl             431.0\n",
       "pydlm                 396.0\n",
       "luminaire             394.0\n",
       "atspy                 365.0\n",
       "deltapy               357.0\n",
       "mcfly                 322.0\n",
       "pyaf                  310.0\n",
       "banpei                248.0\n",
       "tftb                  190.0\n",
       "matrixprofile         169.0\n",
       "pyFTS                 164.0\n",
       "deeptime              159.0\n",
       "pyodds                157.0\n",
       "pycwt                 152.0\n",
       "nolds                 138.0\n",
       "hcrystalball          123.0\n",
       "Name: stargazers_count, dtype: float64"
      ]
     },
     "execution_count": 9,
     "metadata": {},
     "output_type": "execute_result"
    }
   ],
   "source": [
    "stats.set_index('name')['stargazers_count'].sort_values(ascending=False)"
   ]
  },
  {
   "cell_type": "code",
   "execution_count": 10,
   "metadata": {},
   "outputs": [
    {
     "data": {
      "image/png": "[encoded data removed]",
      "text/plain": [
       "<Figure size 432x288 with 2 Axes>"
      ]
     },
     "metadata": {
      "needs_background": "light"
     },
     "output_type": "display_data"
    }
   ],
   "source": [
    "fig, ax = plt.subplots(figsize=(6,4))\n",
    "s = stats.set_index('name')[['stargazers_count','forks_count']].sort_values(ascending=False, by='stargazers_count')\n",
    "s = s.reset_index()\n",
    "#s = s[s>=1000]\n",
    "hs, = ax.plot(s.index, s.stargazers_count, label='stars')\n",
    "ax1 = ax.twinx()\n",
    "hf, = ax1.plot(s.index, s.forks_count, linestyle='--', color='C1', label='forks')\n",
    "ax.set_yscale('log')\n",
    "ax1.set_yscale('log')\n",
    "ax.set_xlabel('Package rank')\n",
    "ax.set_ylabel('Stars (log scale)')\n",
    "ax1.set_ylabel('Forks (log scale)')\n",
    "\n",
    "# annotate the top 10 packages\n",
    "top = 5\n",
    "y = [10**(4-i/top) for i in range(top)]\n",
    "for i in range(top):\n",
    "    text = s.name.iloc[i]\n",
    "    stars = s.stargazers_count.iloc[i]\n",
    "    forks = s.forks_count.iloc[i]\n",
    "    ax.annotate(f'{text} ({stars}, {forks})',\n",
    "                xy=(i, stars), xycoords='data',\n",
    "                xytext=(15, y[i]), textcoords='data',\n",
    "                arrowprops=dict(arrowstyle=\"->\",\n",
    "                                connectionstyle=\"arc3\",\n",
    "                               alpha=0.5, linestyle='--'),\n",
    "                alpha=1,\n",
    "                )\n",
    "\n",
    "ax.legend(handles=[hs,hf],labels=['stars','forks'],bbox_to_anchor=(1.05, 1), loc=2, borderaxespad=0.)\n",
    "plt.tight_layout()\n",
    "#plt.savefig('../latex/images/distribution-stars.pdf')"
   ]
  },
  {
   "cell_type": "code",
   "execution_count": 12,
   "metadata": {},
   "outputs": [
    {
     "data": {
      "image/png": "[encoded data removed]",
      "text/plain": [
       "<Figure size 432x288 with 1 Axes>"
      ]
     },
     "metadata": {
      "needs_background": "light"
     },
     "output_type": "display_data"
    }
   ],
   "source": [
    "fig, ax = plt.subplots(figsize=(6,4))\n",
    "\n",
    "#s = s[s>=1000]\n",
    "s= stats.set_index('name')[['stargazers_count', 'forks_count']]\n",
    "\n",
    "s.plot.scatter(x='stargazers_count', y='forks_count', ax=ax)\n",
    "ax.set_yscale('log')\n",
    "ax.set_xscale('log')\n",
    "ax.set_xlabel('Stars (log scale)')\n",
    "ax.set_ylabel('Forks (log scale)')\n",
    "\n",
    "# annotate the top 10 packages\n",
    "plt.tight_layout()\n",
    "#plt.savefig('../latex/images/distribution-stars.pdf')"
   ]
  },
  {
   "cell_type": "code",
   "execution_count": null,
   "metadata": {},
   "outputs": [],
   "source": []
  }
 ],
 "metadata": {
  "kernelspec": {
   "display_name": "Python 3",
   "language": "python",
   "name": "python3"
  },
  "language_info": {
   "codemirror_mode": {
    "name": "ipython",
    "version": 3
   },
   "file_extension": ".py",
   "mimetype": "text/x-python",
   "name": "python",
   "nbconvert_exporter": "python",
   "pygments_lexer": "ipython3",
   "version": "3.8.6"
  }
 },
 "nbformat": 4,
 "nbformat_minor": 4
}
