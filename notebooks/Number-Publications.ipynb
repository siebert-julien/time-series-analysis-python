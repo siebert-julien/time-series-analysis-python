{
 "cells": [
  {
   "cell_type": "code",
   "execution_count": 1,
   "metadata": {},
   "outputs": [],
   "source": [
    "import pandas as pd\n",
    "import matplotlib.pyplot as plt"
   ]
  },
  {
   "cell_type": "code",
   "execution_count": 2,
   "metadata": {},
   "outputs": [],
   "source": [
    "df_wos = pd.read_csv('webofscience_publicationsperyear.tsv', index_col=0, sep='\\t').iloc[:-1]\n",
    "df_wos.index = pd.to_datetime(df_wos.index, format='%Y')\n",
    "df_wos.sort_index(inplace=True)"
   ]
  },
  {
   "cell_type": "code",
   "execution_count": 3,
   "metadata": {},
   "outputs": [
    {
     "data": {
      "text/html": [
       "<div>\n",
       "<style scoped>\n",
       "    .dataframe tbody tr th:only-of-type {\n",
       "        vertical-align: middle;\n",
       "    }\n",
       "\n",
       "    .dataframe tbody tr th {\n",
       "        vertical-align: top;\n",
       "    }\n",
       "\n",
       "    .dataframe thead th {\n",
       "        text-align: right;\n",
       "    }\n",
       "</style>\n",
       "<table border=\"1\" class=\"dataframe\">\n",
       "  <thead>\n",
       "    <tr style=\"text-align: right;\">\n",
       "      <th></th>\n",
       "      <th>records</th>\n",
       "      <th>% of 8850</th>\n",
       "    </tr>\n",
       "    <tr>\n",
       "      <th>Publication Years</th>\n",
       "      <th></th>\n",
       "      <th></th>\n",
       "    </tr>\n",
       "  </thead>\n",
       "  <tbody>\n",
       "    <tr>\n",
       "      <th>1970-01-01</th>\n",
       "      <td>17.0</td>\n",
       "      <td>0.192</td>\n",
       "    </tr>\n",
       "    <tr>\n",
       "      <th>1971-01-01</th>\n",
       "      <td>28.0</td>\n",
       "      <td>0.316</td>\n",
       "    </tr>\n",
       "    <tr>\n",
       "      <th>1972-01-01</th>\n",
       "      <td>24.0</td>\n",
       "      <td>0.271</td>\n",
       "    </tr>\n",
       "    <tr>\n",
       "      <th>1973-01-01</th>\n",
       "      <td>20.0</td>\n",
       "      <td>0.226</td>\n",
       "    </tr>\n",
       "    <tr>\n",
       "      <th>1974-01-01</th>\n",
       "      <td>27.0</td>\n",
       "      <td>0.305</td>\n",
       "    </tr>\n",
       "  </tbody>\n",
       "</table>\n",
       "</div>"
      ],
      "text/plain": [
       "                   records  % of 8850\n",
       "Publication Years                    \n",
       "1970-01-01            17.0      0.192\n",
       "1971-01-01            28.0      0.316\n",
       "1972-01-01            24.0      0.271\n",
       "1973-01-01            20.0      0.226\n",
       "1974-01-01            27.0      0.305"
      ]
     },
     "execution_count": 3,
     "metadata": {},
     "output_type": "execute_result"
    }
   ],
   "source": [
    "df_wos.head()"
   ]
  },
  {
   "cell_type": "code",
   "execution_count": 4,
   "metadata": {},
   "outputs": [],
   "source": [
    "df = pd.read_csv('Scopus-10808-Analyze-Year.csv',skiprows=6).set_index('YEAR')\n",
    "df.index = pd.to_datetime(df.index, format='%Y')\n",
    "df.sort_index(inplace=True)\n",
    "df.columns = ['Articles']\n",
    "df = df.Articles"
   ]
  },
  {
   "cell_type": "code",
   "execution_count": 5,
   "metadata": {},
   "outputs": [
    {
     "data": {
      "text/plain": [
       "YEAR\n",
       "1925-01-01    1\n",
       "1928-01-01    1\n",
       "1934-01-01    1\n",
       "1940-01-01    1\n",
       "1941-01-01    1\n",
       "Name: Articles, dtype: int64"
      ]
     },
     "execution_count": 5,
     "metadata": {},
     "output_type": "execute_result"
    }
   ],
   "source": [
    "df.head()"
   ]
  },
  {
   "cell_type": "code",
   "execution_count": 24,
   "metadata": {},
   "outputs": [],
   "source": [
    "total_dblp = pd.read_csv('dblp_publicationsperyear.csv', sep=';').groupby('Year').sum()\n",
    "total_dblp.index = pd.to_datetime(total_dblp.index, format='%Y')\n",
    "total_dblp.sort_index(inplace=True)\n",
    "total_dblp = total_dblp['#Publications']"
   ]
  },
  {
   "cell_type": "code",
   "execution_count": 25,
   "metadata": {},
   "outputs": [
    {
     "data": {
      "text/plain": [
       "Year\n",
       "1936-01-01        12\n",
       "1937-01-01        15\n",
       "1938-01-01        11\n",
       "1939-01-01        18\n",
       "1940-01-01        10\n",
       "               ...  \n",
       "2017-01-01    329179\n",
       "2018-01-01    361579\n",
       "2019-01-01    399059\n",
       "2020-01-01    390922\n",
       "2021-01-01     53519\n",
       "Name: #Publications, Length: 86, dtype: int64"
      ]
     },
     "execution_count": 25,
     "metadata": {},
     "output_type": "execute_result"
    }
   ],
   "source": [
    "total_dblp"
   ]
  },
  {
   "cell_type": "code",
   "execution_count": 26,
   "metadata": {},
   "outputs": [
    {
     "data": {
      "image/png": "[encoded data removed]",
      "text/plain": [
       "<Figure size 432x288 with 4 Axes>"
      ]
     },
     "metadata": {
      "needs_background": "light"
     },
     "output_type": "display_data"
    }
   ],
   "source": [
    "fig, ax1 = plt.subplots(figsize=(6,4))\n",
    "h1, = ax1.plot(df[:'2020-12-31'].index, df[:'2020-12-31'].values, color='C0')\n",
    "ax1r = ax1.twinx()\n",
    "h1r, = ax1r.plot(df_wos[:'2020-12-31'].index, df_wos[:'2020-12-31'].records, color='C1', linestyle='--')\n",
    "\n",
    "ax1.legend([h1,h1r],['Scopus','WoS'], bbox_to_anchor=(1.2,1), loc=\"upper left\")\n",
    "\n",
    "left, bottom, width, height = [0.275, 0.45, 0.3, 0.35]\n",
    "ax2 = fig.add_axes([left, bottom, width, height])\n",
    "ax2.tick_params(axis='x', labelrotation=90)\n",
    "trend = 100*(df / total_dblp)['2010-01-01':'2020-12-31']\n",
    "trend_wos = 100*(df_wos.records / total_dblp)['2010-01-01':'2020-12-31']\n",
    "h2, = ax2.plot(trend.index, trend.values, color='C0', label='trend')\n",
    "ax2r = ax2.twinx()\n",
    "h2r, = ax2r.plot(trend_wos.index, trend_wos.values, color='C1', linestyle='--')\n",
    "\n",
    "#ax2.legend([h2,h2r],['trend (Scopus)', 'trend (Wos)'], bbox_to_anchor=(0,1.5), loc=\"upper left\")\n",
    "\n",
    "ax1.set_ylabel('Time Series Publications (Scopus)')\n",
    "ax1r.set_ylabel('Time Series Publications (WoS)')\n",
    "ax2.set_ylabel('Trend (Scopus)')\n",
    "ax2r.set_ylabel('Trend (WoS)')\n",
    "ax1.set_xlabel('Year')\n",
    "\n",
    "plt.savefig('../latex/images/documents-distribution-scopus.pdf', bbox_inches='tight')"
   ]
  },
  {
   "cell_type": "code",
   "execution_count": null,
   "metadata": {},
   "outputs": [],
   "source": []
  }
 ],
 "metadata": {
  "kernelspec": {
   "display_name": "Python 3",
   "language": "python",
   "name": "python3"
  },
  "language_info": {
   "codemirror_mode": {
    "name": "ipython",
    "version": 3
   },
   "file_extension": ".py",
   "mimetype": "text/x-python",
   "name": "python",
   "nbconvert_exporter": "python",
   "pygments_lexer": "ipython3",
   "version": "3.8.6"
  }
 },
 "nbformat": 4,
 "nbformat_minor": 4
}
